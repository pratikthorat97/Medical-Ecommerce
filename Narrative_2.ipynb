{
 "cells": [
  {
   "cell_type": "code",
   "execution_count": 1,
   "metadata": {
    "colab": {
     "base_uri": "https://localhost:8080/",
     "height": 768
    },
    "colab_type": "code",
    "executionInfo": {
     "elapsed": 17799,
     "status": "ok",
     "timestamp": 1562390248769,
     "user": {
      "displayName": "Jignesh Waghela",
      "photoUrl": "https://lh6.googleusercontent.com/-f8Yjb8E7LzQ/AAAAAAAAAAI/AAAAAAAABBM/8xasGcg_ASI/s64/photo.jpg",
      "userId": "15009887095695855672"
     },
     "user_tz": -330
    },
    "id": "_KMDWupA26to",
    "outputId": "89e68f07-3e0d-449f-896b-6bc14c318ca5"
   },
   "outputs": [],
   "source": [
    "#!pip install docx\n",
    "#!pip install python-docx\n",
    "#!pip install PyDrive"
   ]
  },
  {
   "cell_type": "code",
   "execution_count": 2,
   "metadata": {
    "colab": {},
    "colab_type": "code",
    "id": "vra-9oYzGNOw"
   },
   "outputs": [],
   "source": [
    "import pandas as pd\n",
    "import numpy as np\n",
    "import re\n",
    "from collections import defaultdict, OrderedDict\n",
    "import matplotlib.pyplot as plt\n",
    "from matplotlib.colors import ListedColormap\n",
    "import seaborn as sn\n",
    "import random\n",
    "%matplotlib inline\n",
    "\n",
    "import docx \n"
   ]
  },
  {
   "cell_type": "code",
   "execution_count": 3,
   "metadata": {
    "colab": {},
    "colab_type": "code",
    "id": "54eGx8zKkhsi"
   },
   "outputs": [],
   "source": [
    "data=pd.read_excel(\"Narrative2.xlsx\")"
   ]
  },
  {
   "cell_type": "code",
   "execution_count": 4,
   "metadata": {
    "colab": {
     "base_uri": "https://localhost:8080/",
     "height": 34
    },
    "colab_type": "code",
    "executionInfo": {
     "elapsed": 36304,
     "status": "ok",
     "timestamp": 1562391754538,
     "user": {
      "displayName": "Jignesh Waghela",
      "photoUrl": "https://lh6.googleusercontent.com/-f8Yjb8E7LzQ/AAAAAAAAAAI/AAAAAAAABBM/8xasGcg_ASI/s64/photo.jpg",
      "userId": "15009887095695855672"
     },
     "user_tz": -330
    },
    "id": "s5yEPEh5HC0R",
    "outputId": "86b9248a-f6ef-4ccf-ea3c-70bc2a56994b"
   },
   "outputs": [
    {
     "data": {
      "text/plain": [
       "(2009, 31)"
      ]
     },
     "execution_count": 4,
     "metadata": {},
     "output_type": "execute_result"
    }
   ],
   "source": [
    "data.shape"
   ]
  },
  {
   "cell_type": "code",
   "execution_count": 5,
   "metadata": {
    "colab": {},
    "colab_type": "code",
    "id": "4g-CTjHhHA78"
   },
   "outputs": [],
   "source": [
    "newdata=data.copy()"
   ]
  },
  {
   "cell_type": "code",
   "execution_count": 6,
   "metadata": {
    "colab": {
     "base_uri": "https://localhost:8080/",
     "height": 411
    },
    "colab_type": "code",
    "executionInfo": {
     "elapsed": 36301,
     "status": "ok",
     "timestamp": 1562391754559,
     "user": {
      "displayName": "Jignesh Waghela",
      "photoUrl": "https://lh6.googleusercontent.com/-f8Yjb8E7LzQ/AAAAAAAAAAI/AAAAAAAABBM/8xasGcg_ASI/s64/photo.jpg",
      "userId": "15009887095695855672"
     },
     "user_tz": -330
    },
    "id": "5dUM9OmrHAYH",
    "outputId": "eddc6158-98bc-48e1-96f6-276fdf100647"
   },
   "outputs": [
    {
     "data": {
      "text/html": [
       "<div>\n",
       "<style scoped>\n",
       "    .dataframe tbody tr th:only-of-type {\n",
       "        vertical-align: middle;\n",
       "    }\n",
       "\n",
       "    .dataframe tbody tr th {\n",
       "        vertical-align: top;\n",
       "    }\n",
       "\n",
       "    .dataframe thead th {\n",
       "        text-align: right;\n",
       "    }\n",
       "</style>\n",
       "<table border=\"1\" class=\"dataframe\">\n",
       "  <thead>\n",
       "    <tr style=\"text-align: right;\">\n",
       "      <th></th>\n",
       "      <th>Upload Date</th>\n",
       "      <th>Retailer Code</th>\n",
       "      <th>UPC</th>\n",
       "      <th>Sale Quantity</th>\n",
       "      <th>Sale Value</th>\n",
       "      <th>DC Code</th>\n",
       "      <th>Store Code</th>\n",
       "      <th>Brand</th>\n",
       "      <th>Brand_Type</th>\n",
       "      <th>Business_Range</th>\n",
       "      <th>...</th>\n",
       "      <th>Week</th>\n",
       "      <th>Year</th>\n",
       "      <th>DC_Name</th>\n",
       "      <th>Retailer_Country</th>\n",
       "      <th>Retailer_Name</th>\n",
       "      <th>Retailer_Region</th>\n",
       "      <th>Store_City</th>\n",
       "      <th>Store_Name</th>\n",
       "      <th>Store_Region</th>\n",
       "      <th>Store_Status</th>\n",
       "    </tr>\n",
       "  </thead>\n",
       "  <tbody>\n",
       "    <tr>\n",
       "      <td>0</td>\n",
       "      <td>2019-02-17</td>\n",
       "      <td>500033</td>\n",
       "      <td>887719065472</td>\n",
       "      <td>13</td>\n",
       "      <td>311.87</td>\n",
       "      <td>171</td>\n",
       "      <td>1225</td>\n",
       "      <td>GRANDEUR</td>\n",
       "      <td>RETAILER OWNED</td>\n",
       "      <td>RETAIL CORE PRODUCTS</td>\n",
       "      <td>...</td>\n",
       "      <td>WEEK 07</td>\n",
       "      <td>2016</td>\n",
       "      <td>NaN</td>\n",
       "      <td>US</td>\n",
       "      <td>COSTCO</td>\n",
       "      <td>WA</td>\n",
       "      <td>US</td>\n",
       "      <td>REDMOND</td>\n",
       "      <td>WA</td>\n",
       "      <td>ACTIVE</td>\n",
       "    </tr>\n",
       "    <tr>\n",
       "      <td>1</td>\n",
       "      <td>2019-02-17</td>\n",
       "      <td>500033</td>\n",
       "      <td>887719065472</td>\n",
       "      <td>0</td>\n",
       "      <td>0.00</td>\n",
       "      <td>171</td>\n",
       "      <td>COSTCO9999</td>\n",
       "      <td>GRANDEUR</td>\n",
       "      <td>RETAILER OWNED</td>\n",
       "      <td>RETAIL CORE PRODUCTS</td>\n",
       "      <td>...</td>\n",
       "      <td>WEEK 07</td>\n",
       "      <td>2016</td>\n",
       "      <td>NaN</td>\n",
       "      <td>US</td>\n",
       "      <td>COSTCO</td>\n",
       "      <td>WA</td>\n",
       "      <td>NaN</td>\n",
       "      <td>NaN</td>\n",
       "      <td>NaN</td>\n",
       "      <td>NaN</td>\n",
       "    </tr>\n",
       "    <tr>\n",
       "      <td>2</td>\n",
       "      <td>2019-02-17</td>\n",
       "      <td>500033</td>\n",
       "      <td>887719066691</td>\n",
       "      <td>14</td>\n",
       "      <td>111.86</td>\n",
       "      <td>171</td>\n",
       "      <td>1225</td>\n",
       "      <td>CHARISMA</td>\n",
       "      <td>RETAILER OWNED</td>\n",
       "      <td>RETAIL CORE PRODUCTS</td>\n",
       "      <td>...</td>\n",
       "      <td>WEEK 07</td>\n",
       "      <td>2016</td>\n",
       "      <td>NaN</td>\n",
       "      <td>US</td>\n",
       "      <td>COSTCO</td>\n",
       "      <td>WA</td>\n",
       "      <td>US</td>\n",
       "      <td>REDMOND</td>\n",
       "      <td>WA</td>\n",
       "      <td>ACTIVE</td>\n",
       "    </tr>\n",
       "    <tr>\n",
       "      <td>3</td>\n",
       "      <td>2019-02-17</td>\n",
       "      <td>500033</td>\n",
       "      <td>887719066691</td>\n",
       "      <td>0</td>\n",
       "      <td>0.00</td>\n",
       "      <td>171</td>\n",
       "      <td>COSTCO9999</td>\n",
       "      <td>CHARISMA</td>\n",
       "      <td>RETAILER OWNED</td>\n",
       "      <td>RETAIL CORE PRODUCTS</td>\n",
       "      <td>...</td>\n",
       "      <td>WEEK 07</td>\n",
       "      <td>2016</td>\n",
       "      <td>NaN</td>\n",
       "      <td>US</td>\n",
       "      <td>COSTCO</td>\n",
       "      <td>WA</td>\n",
       "      <td>NaN</td>\n",
       "      <td>NaN</td>\n",
       "      <td>NaN</td>\n",
       "      <td>NaN</td>\n",
       "    </tr>\n",
       "    <tr>\n",
       "      <td>4</td>\n",
       "      <td>2019-02-17</td>\n",
       "      <td>500033</td>\n",
       "      <td>887719068558</td>\n",
       "      <td>28</td>\n",
       "      <td>223.72</td>\n",
       "      <td>171</td>\n",
       "      <td>1225</td>\n",
       "      <td>CHARISMA</td>\n",
       "      <td>RETAILER OWNED</td>\n",
       "      <td>RETAIL CORE PRODUCTS</td>\n",
       "      <td>...</td>\n",
       "      <td>WEEK 07</td>\n",
       "      <td>2016</td>\n",
       "      <td>NaN</td>\n",
       "      <td>US</td>\n",
       "      <td>COSTCO</td>\n",
       "      <td>WA</td>\n",
       "      <td>US</td>\n",
       "      <td>REDMOND</td>\n",
       "      <td>WA</td>\n",
       "      <td>ACTIVE</td>\n",
       "    </tr>\n",
       "  </tbody>\n",
       "</table>\n",
       "<p>5 rows × 31 columns</p>\n",
       "</div>"
      ],
      "text/plain": [
       "  Upload Date  Retailer Code           UPC  Sale Quantity  Sale Value  \\\n",
       "0  2019-02-17         500033  887719065472             13      311.87   \n",
       "1  2019-02-17         500033  887719065472              0        0.00   \n",
       "2  2019-02-17         500033  887719066691             14      111.86   \n",
       "3  2019-02-17         500033  887719066691              0        0.00   \n",
       "4  2019-02-17         500033  887719068558             28      223.72   \n",
       "\n",
       "   DC Code  Store Code     Brand      Brand_Type        Business_Range  ...  \\\n",
       "0      171        1225  GRANDEUR  RETAILER OWNED  RETAIL CORE PRODUCTS  ...   \n",
       "1      171  COSTCO9999  GRANDEUR  RETAILER OWNED  RETAIL CORE PRODUCTS  ...   \n",
       "2      171        1225  CHARISMA  RETAILER OWNED  RETAIL CORE PRODUCTS  ...   \n",
       "3      171  COSTCO9999  CHARISMA  RETAILER OWNED  RETAIL CORE PRODUCTS  ...   \n",
       "4      171        1225  CHARISMA  RETAILER OWNED  RETAIL CORE PRODUCTS  ...   \n",
       "\n",
       "      Week  Year  DC_Name  Retailer_Country Retailer_Name Retailer_Region  \\\n",
       "0  WEEK 07  2016      NaN                US        COSTCO              WA   \n",
       "1  WEEK 07  2016      NaN                US        COSTCO              WA   \n",
       "2  WEEK 07  2016      NaN                US        COSTCO              WA   \n",
       "3  WEEK 07  2016      NaN                US        COSTCO              WA   \n",
       "4  WEEK 07  2016      NaN                US        COSTCO              WA   \n",
       "\n",
       "  Store_City Store_Name Store_Region Store_Status  \n",
       "0         US    REDMOND           WA       ACTIVE  \n",
       "1        NaN        NaN          NaN          NaN  \n",
       "2         US    REDMOND           WA       ACTIVE  \n",
       "3        NaN        NaN          NaN          NaN  \n",
       "4         US    REDMOND           WA       ACTIVE  \n",
       "\n",
       "[5 rows x 31 columns]"
      ]
     },
     "execution_count": 6,
     "metadata": {},
     "output_type": "execute_result"
    }
   ],
   "source": [
    "newdata.head()"
   ]
  },
  {
   "cell_type": "code",
   "execution_count": 7,
   "metadata": {
    "colab": {
     "base_uri": "https://localhost:8080/",
     "height": 561
    },
    "colab_type": "code",
    "executionInfo": {
     "elapsed": 36279,
     "status": "ok",
     "timestamp": 1562391754562,
     "user": {
      "displayName": "Jignesh Waghela",
      "photoUrl": "https://lh6.googleusercontent.com/-f8Yjb8E7LzQ/AAAAAAAAAAI/AAAAAAAABBM/8xasGcg_ASI/s64/photo.jpg",
      "userId": "15009887095695855672"
     },
     "user_tz": -330
    },
    "id": "LetFOuVBkh34",
    "outputId": "17a9b450-a0b5-4a93-9f09-daea8bd01732"
   },
   "outputs": [
    {
     "data": {
      "text/plain": [
       "Upload Date                      0\n",
       "Retailer Code                    0\n",
       "UPC                              0\n",
       "Sale Quantity                    0\n",
       "Sale Value                       0\n",
       "DC Code                          0\n",
       "Store Code                       0\n",
       "Brand                            0\n",
       "Brand_Type                       0\n",
       "Business_Range                   0\n",
       "Color                            0\n",
       "Color_Group                      0\n",
       "LBS                              0\n",
       "MRP                              0\n",
       "Product_Group_Category           0\n",
       "Product_Group_Sub_Category       0\n",
       "Program                          0\n",
       "Shade_Type                       0\n",
       "Size                             0\n",
       "Status                           0\n",
       "Month                            0\n",
       "Week                             0\n",
       "Year                             0\n",
       "DC_Name                       2009\n",
       "Retailer_Country                 0\n",
       "Retailer_Name                    0\n",
       "Retailer_Region                  0\n",
       "Store_City                     142\n",
       "Store_Name                     142\n",
       "Store_Region                   142\n",
       "Store_Status                   142\n",
       "dtype: int64"
      ]
     },
     "execution_count": 7,
     "metadata": {},
     "output_type": "execute_result"
    }
   ],
   "source": [
    "newdata.isnull().sum()"
   ]
  },
  {
   "cell_type": "code",
   "execution_count": 8,
   "metadata": {
    "colab": {},
    "colab_type": "code",
    "id": "hZIcmPTekh8B"
   },
   "outputs": [],
   "source": [
    "newdata.dropna(how='all', axis=1, inplace=True)"
   ]
  },
  {
   "cell_type": "code",
   "execution_count": 9,
   "metadata": {
    "colab": {},
    "colab_type": "code",
    "id": "yp3KnEUakh6U"
   },
   "outputs": [],
   "source": [
    "newdata.dropna(how='all', axis=0, inplace=True)"
   ]
  },
  {
   "cell_type": "code",
   "execution_count": 10,
   "metadata": {
    "colab": {
     "base_uri": "https://localhost:8080/",
     "height": 34
    },
    "colab_type": "code",
    "executionInfo": {
     "elapsed": 36277,
     "status": "ok",
     "timestamp": 1562391754580,
     "user": {
      "displayName": "Jignesh Waghela",
      "photoUrl": "https://lh6.googleusercontent.com/-f8Yjb8E7LzQ/AAAAAAAAAAI/AAAAAAAABBM/8xasGcg_ASI/s64/photo.jpg",
      "userId": "15009887095695855672"
     },
     "user_tz": -330
    },
    "id": "kp2a1Jsgkhnu",
    "outputId": "59a00571-2520-4c57-a0e7-f92306f3bed7"
   },
   "outputs": [
    {
     "data": {
      "text/plain": [
       "(2009, 30)"
      ]
     },
     "execution_count": 10,
     "metadata": {},
     "output_type": "execute_result"
    }
   ],
   "source": [
    "newdata.shape"
   ]
  },
  {
   "cell_type": "code",
   "execution_count": 11,
   "metadata": {
    "colab": {
     "base_uri": "https://localhost:8080/",
     "height": 153
    },
    "colab_type": "code",
    "executionInfo": {
     "elapsed": 36264,
     "status": "ok",
     "timestamp": 1562391754583,
     "user": {
      "displayName": "Jignesh Waghela",
      "photoUrl": "https://lh6.googleusercontent.com/-f8Yjb8E7LzQ/AAAAAAAAAAI/AAAAAAAABBM/8xasGcg_ASI/s64/photo.jpg",
      "userId": "15009887095695855672"
     },
     "user_tz": -330
    },
    "id": "F1-F9ov_PFDP",
    "outputId": "858e6dc0-de96-4d6a-aa14-b7d6251294d3"
   },
   "outputs": [
    {
     "data": {
      "text/plain": [
       "Index(['Upload Date', 'Retailer Code', 'UPC', 'Sale Quantity', 'Sale Value',\n",
       "       'DC Code', 'Store Code', 'Brand', 'Brand_Type', 'Business_Range',\n",
       "       'Color', 'Color_Group', 'LBS', 'MRP', 'Product_Group_Category',\n",
       "       'Product_Group_Sub_Category', 'Program', 'Shade_Type', 'Size', 'Status',\n",
       "       'Month', 'Week', 'Year', 'Retailer_Country', 'Retailer_Name',\n",
       "       'Retailer_Region', 'Store_City', 'Store_Name', 'Store_Region',\n",
       "       'Store_Status'],\n",
       "      dtype='object')"
      ]
     },
     "execution_count": 11,
     "metadata": {},
     "output_type": "execute_result"
    }
   ],
   "source": [
    "newdata.columns"
   ]
  },
  {
   "cell_type": "code",
   "execution_count": null,
   "metadata": {},
   "outputs": [],
   "source": []
  },
  {
   "cell_type": "code",
   "execution_count": 12,
   "metadata": {
    "colab": {
     "base_uri": "https://localhost:8080/",
     "height": 527
    },
    "colab_type": "code",
    "executionInfo": {
     "elapsed": 36252,
     "status": "ok",
     "timestamp": 1562391754585,
     "user": {
      "displayName": "Jignesh Waghela",
      "photoUrl": "https://lh6.googleusercontent.com/-f8Yjb8E7LzQ/AAAAAAAAAAI/AAAAAAAABBM/8xasGcg_ASI/s64/photo.jpg",
      "userId": "15009887095695855672"
     },
     "user_tz": -330
    },
    "id": "53nhrrgXPFIk",
    "outputId": "d5d62794-509d-4c1d-e33e-597e9c75cfc2"
   },
   "outputs": [
    {
     "data": {
      "text/plain": [
       "[{'Upload Date': 0.0},\n",
       " {'Retailer Code': 0.0},\n",
       " {'UPC': 0.0},\n",
       " {'Sale Quantity': 0.0},\n",
       " {'Sale Value': 0.0},\n",
       " {'DC Code': 0.0},\n",
       " {'Store Code': 0.0},\n",
       " {'Brand': 0.0},\n",
       " {'Brand_Type': 0.0},\n",
       " {'Business_Range': 0.0},\n",
       " {'Color': 0.0},\n",
       " {'Color_Group': 0.0},\n",
       " {'LBS': 0.0},\n",
       " {'MRP': 0.0},\n",
       " {'Product_Group_Category': 0.0},\n",
       " {'Product_Group_Sub_Category': 0.0},\n",
       " {'Program': 0.0},\n",
       " {'Shade_Type': 0.0},\n",
       " {'Size': 0.0},\n",
       " {'Status': 0.0},\n",
       " {'Month': 0.0},\n",
       " {'Week': 0.0},\n",
       " {'Year': 0.0},\n",
       " {'Retailer_Country': 0.0},\n",
       " {'Retailer_Name': 0.0},\n",
       " {'Retailer_Region': 0.0},\n",
       " {'Store_City': 7.068193130910901},\n",
       " {'Store_Name': 7.068193130910901},\n",
       " {'Store_Region': 7.068193130910901},\n",
       " {'Store_Status': 7.068193130910901}]"
      ]
     },
     "execution_count": 12,
     "metadata": {},
     "output_type": "execute_result"
    }
   ],
   "source": [
    "per_null_vals=[{col:(newdata[col].isnull().sum()/len(newdata[col]))*100} for col in newdata.columns]\n",
    "per_null_vals"
   ]
  },
  {
   "cell_type": "code",
   "execution_count": 13,
   "metadata": {
    "colab": {
     "base_uri": "https://localhost:8080/",
     "height": 153
    },
    "colab_type": "code",
    "executionInfo": {
     "elapsed": 36244,
     "status": "ok",
     "timestamp": 1562391754587,
     "user": {
      "displayName": "Jignesh Waghela",
      "photoUrl": "https://lh6.googleusercontent.com/-f8Yjb8E7LzQ/AAAAAAAAAAI/AAAAAAAABBM/8xasGcg_ASI/s64/photo.jpg",
      "userId": "15009887095695855672"
     },
     "user_tz": -330
    },
    "id": "QrvnnurVPFNs",
    "outputId": "0207aa03-4af9-4f13-bd15-d1dcd2eb0416"
   },
   "outputs": [
    {
     "data": {
      "text/plain": [
       "Index(['Upload Date', 'Retailer Code', 'UPC', 'Sale Quantity', 'Sale Value',\n",
       "       'DC Code', 'Store Code', 'Brand', 'Brand_Type', 'Business_Range',\n",
       "       'Color', 'Color_Group', 'LBS', 'MRP', 'Product_Group_Category',\n",
       "       'Product_Group_Sub_Category', 'Program', 'Shade_Type', 'Size', 'Status',\n",
       "       'Month', 'Week', 'Year', 'Retailer_Country', 'Retailer_Name',\n",
       "       'Retailer_Region', 'Store_City', 'Store_Name', 'Store_Region',\n",
       "       'Store_Status'],\n",
       "      dtype='object')"
      ]
     },
     "execution_count": 13,
     "metadata": {},
     "output_type": "execute_result"
    }
   ],
   "source": [
    "newdata.columns"
   ]
  },
  {
   "cell_type": "code",
   "execution_count": 14,
   "metadata": {
    "colab": {},
    "colab_type": "code",
    "id": "k1kY694aPFUk"
   },
   "outputs": [],
   "source": [
    "for col in newdata.columns:\n",
    "    newdata.rename(columns={col:col.replace(' ','_')}, inplace=True)"
   ]
  },
  {
   "cell_type": "code",
   "execution_count": 15,
   "metadata": {
    "colab": {
     "base_uri": "https://localhost:8080/",
     "height": 153
    },
    "colab_type": "code",
    "executionInfo": {
     "elapsed": 36263,
     "status": "ok",
     "timestamp": 1562391754617,
     "user": {
      "displayName": "Jignesh Waghela",
      "photoUrl": "https://lh6.googleusercontent.com/-f8Yjb8E7LzQ/AAAAAAAAAAI/AAAAAAAABBM/8xasGcg_ASI/s64/photo.jpg",
      "userId": "15009887095695855672"
     },
     "user_tz": -330
    },
    "id": "arr8rx1kPFaF",
    "outputId": "cff82a9b-0c27-49ea-a476-9bd552f9fa99"
   },
   "outputs": [
    {
     "data": {
      "text/plain": [
       "Index(['Upload_Date', 'Retailer_Code', 'UPC', 'Sale_Quantity', 'Sale_Value',\n",
       "       'DC_Code', 'Store_Code', 'Brand', 'Brand_Type', 'Business_Range',\n",
       "       'Color', 'Color_Group', 'LBS', 'MRP', 'Product_Group_Category',\n",
       "       'Product_Group_Sub_Category', 'Program', 'Shade_Type', 'Size', 'Status',\n",
       "       'Month', 'Week', 'Year', 'Retailer_Country', 'Retailer_Name',\n",
       "       'Retailer_Region', 'Store_City', 'Store_Name', 'Store_Region',\n",
       "       'Store_Status'],\n",
       "      dtype='object')"
      ]
     },
     "execution_count": 15,
     "metadata": {},
     "output_type": "execute_result"
    }
   ],
   "source": [
    "newdata.columns"
   ]
  },
  {
   "cell_type": "code",
   "execution_count": 16,
   "metadata": {
    "colab": {},
    "colab_type": "code",
    "id": "7lyU_T0yPFf1"
   },
   "outputs": [],
   "source": [
    "for col in newdata.columns:\n",
    "    if newdata[col].dtype=='O':\n",
    "        newdata[col]=newdata[col].astype(str)"
   ]
  },
  {
   "cell_type": "code",
   "execution_count": 17,
   "metadata": {
    "colab": {},
    "colab_type": "code",
    "id": "ll8-zVenelQq"
   },
   "outputs": [],
   "source": [
    "for ind,col in enumerate(newdata.columns):\n",
    "    if newdata[col].isnull().any()==True and newdata[col].dtype==object:\n",
    "        newdata[col]=newdata[col].fillna(\"A\")\n",
    "    elif newdata[col].isnull().any()==True and newdata[col].dtype=='O':\n",
    "        newdata[col]=newdata[col].fillna(\"A\")\n",
    "    elif newdata[col].isnull().any()==True and newdata[col].dtype==str:\n",
    "        newdata[col]=newdata[col].fillna(\"A\")\n",
    "    elif newdata[col].isnull().any()==True and newdata[col].dtype=='float32':\n",
    "        newdata[col]=newdata[col].filla(newdata[col].mean())\n",
    "    elif newdata[col].isnull().any()==True and newdata[col].dtype=='float64':\n",
    "        newdata[col]=newdata[col].fillna(newdata[col].mean())\n",
    "    elif newdata[col].isnull().any()==True and newdata[col].dtype=='int32':\n",
    "        newdata[col]=newdata[col].fillna(newdata[col].mean())\n",
    "    elif newdata[col].isnull().any()==True and newdata[col].dtype=='int64':\n",
    "        newdata[col]=newdata[col].fillna(newdata[col].mean())\n",
    "    elif newdata[col].isnull().any()==True and newdata[col].dtype=='int':\n",
    "        newdata[col]=newdata[col].fillna(newdata[col].mean())\n",
    "    elif newdata[col].isnull().any()==True and newdata[col].dtype=='float':\n",
    "        newdata[col]=newdata[col].fillna(newdata[col].mean())"
   ]
  },
  {
   "cell_type": "code",
   "execution_count": 18,
   "metadata": {
    "colab": {
     "base_uri": "https://localhost:8080/",
     "height": 34
    },
    "colab_type": "code",
    "executionInfo": {
     "elapsed": 36784,
     "status": "ok",
     "timestamp": 1562391755151,
     "user": {
      "displayName": "Jignesh Waghela",
      "photoUrl": "https://lh6.googleusercontent.com/-f8Yjb8E7LzQ/AAAAAAAAAAI/AAAAAAAABBM/8xasGcg_ASI/s64/photo.jpg",
      "userId": "15009887095695855672"
     },
     "user_tz": -330
    },
    "id": "S8Rpz7gHelKz",
    "outputId": "667da534-c2a6-4eac-bb5b-c9dc76cddf1b"
   },
   "outputs": [
    {
     "data": {
      "text/plain": [
       "0"
      ]
     },
     "execution_count": 18,
     "metadata": {},
     "output_type": "execute_result"
    }
   ],
   "source": [
    "newdata.isnull().sum().sum()"
   ]
  },
  {
   "cell_type": "code",
   "execution_count": 19,
   "metadata": {
    "colab": {
     "base_uri": "https://localhost:8080/",
     "height": 153
    },
    "colab_type": "code",
    "executionInfo": {
     "elapsed": 36776,
     "status": "ok",
     "timestamp": 1562391755153,
     "user": {
      "displayName": "Jignesh Waghela",
      "photoUrl": "https://lh6.googleusercontent.com/-f8Yjb8E7LzQ/AAAAAAAAAAI/AAAAAAAABBM/8xasGcg_ASI/s64/photo.jpg",
      "userId": "15009887095695855672"
     },
     "user_tz": -330
    },
    "id": "S6yjamoMFHRZ",
    "outputId": "b6ce9b29-4b11-4ae7-fec5-423ea36a1ab2"
   },
   "outputs": [
    {
     "data": {
      "text/plain": [
       "Index(['Upload_Date', 'Retailer_Code', 'UPC', 'Sale_Quantity', 'Sale_Value',\n",
       "       'DC_Code', 'Store_Code', 'Brand', 'Brand_Type', 'Business_Range',\n",
       "       'Color', 'Color_Group', 'LBS', 'MRP', 'Product_Group_Category',\n",
       "       'Product_Group_Sub_Category', 'Program', 'Shade_Type', 'Size', 'Status',\n",
       "       'Month', 'Week', 'Year', 'Retailer_Country', 'Retailer_Name',\n",
       "       'Retailer_Region', 'Store_City', 'Store_Name', 'Store_Region',\n",
       "       'Store_Status'],\n",
       "      dtype='object')"
      ]
     },
     "execution_count": 19,
     "metadata": {},
     "output_type": "execute_result"
    }
   ],
   "source": [
    "newdata.columns"
   ]
  },
  {
   "cell_type": "code",
   "execution_count": 20,
   "metadata": {
    "colab": {},
    "colab_type": "code",
    "id": "rqw2duSselFI"
   },
   "outputs": [],
   "source": [
    "newdata['Sale_Value']=newdata['Sale_Value'].apply(lambda x:round(x,1))\n"
   ]
  },
  {
   "cell_type": "code",
   "execution_count": 21,
   "metadata": {
    "colab": {},
    "colab_type": "code",
    "id": "TU5NydDsTCGD"
   },
   "outputs": [],
   "source": [
    "newdata['Store_Status']=newdata['Store_Status'].replace('nan', 'INACTIVE')"
   ]
  },
  {
   "cell_type": "code",
   "execution_count": null,
   "metadata": {
    "colab": {},
    "colab_type": "code",
    "id": "gNTqgZfQWEK5"
   },
   "outputs": [],
   "source": []
  },
  {
   "cell_type": "code",
   "execution_count": 22,
   "metadata": {
    "colab": {},
    "colab_type": "code",
    "id": "OcJ0K4Hv4Td1"
   },
   "outputs": [],
   "source": [
    "#Analysis"
   ]
  },
  {
   "cell_type": "code",
   "execution_count": 23,
   "metadata": {
    "colab": {
     "base_uri": "https://localhost:8080/",
     "height": 34
    },
    "colab_type": "code",
    "executionInfo": {
     "elapsed": 36781,
     "status": "ok",
     "timestamp": 1562391755181,
     "user": {
      "displayName": "Jignesh Waghela",
      "photoUrl": "https://lh6.googleusercontent.com/-f8Yjb8E7LzQ/AAAAAAAAAAI/AAAAAAAABBM/8xasGcg_ASI/s64/photo.jpg",
      "userId": "15009887095695855672"
     },
     "user_tz": -330
    },
    "id": "ny65JYcFek_2",
    "outputId": "01462810-a5b3-4e2d-a52f-1e70153d6309"
   },
   "outputs": [
    {
     "data": {
      "text/plain": [
       "77969"
      ]
     },
     "execution_count": 23,
     "metadata": {},
     "output_type": "execute_result"
    }
   ],
   "source": [
    "newdata['Sale_Quantity'].sum()"
   ]
  },
  {
   "cell_type": "code",
   "execution_count": 24,
   "metadata": {
    "colab": {
     "base_uri": "https://localhost:8080/",
     "height": 34
    },
    "colab_type": "code",
    "executionInfo": {
     "elapsed": 36772,
     "status": "ok",
     "timestamp": 1562391755182,
     "user": {
      "displayName": "Jignesh Waghela",
      "photoUrl": "https://lh6.googleusercontent.com/-f8Yjb8E7LzQ/AAAAAAAAAAI/AAAAAAAABBM/8xasGcg_ASI/s64/photo.jpg",
      "userId": "15009887095695855672"
     },
     "user_tz": -330
    },
    "id": "VO0QlI6Kek6b",
    "outputId": "36c3d65b-57d5-4d8f-c4b8-68b3561d6d50"
   },
   "outputs": [
    {
     "data": {
      "text/plain": [
       "835681.7"
      ]
     },
     "execution_count": 24,
     "metadata": {},
     "output_type": "execute_result"
    }
   ],
   "source": [
    "newdata['Sale_Value'].sum()"
   ]
  },
  {
   "cell_type": "code",
   "execution_count": 25,
   "metadata": {
    "colab": {
     "base_uri": "https://localhost:8080/",
     "height": 34
    },
    "colab_type": "code",
    "executionInfo": {
     "elapsed": 36762,
     "status": "ok",
     "timestamp": 1562391755183,
     "user": {
      "displayName": "Jignesh Waghela",
      "photoUrl": "https://lh6.googleusercontent.com/-f8Yjb8E7LzQ/AAAAAAAAAAI/AAAAAAAABBM/8xasGcg_ASI/s64/photo.jpg",
      "userId": "15009887095695855672"
     },
     "user_tz": -330
    },
    "id": "sZbP5S4Xekzm",
    "outputId": "9c57afe6-d3dd-422c-c8cd-4958fa36b6b6"
   },
   "outputs": [
    {
     "name": "stdout",
     "output_type": "stream",
     "text": [
      "The Total Sales which was generated is 835681.7 from the total quantity of 77969 units which were sold.\n"
     ]
    }
   ],
   "source": [
    "print(f\"The Total Sales which was generated is {newdata['Sale_Value'].sum()} from the total quantity of {newdata['Sale_Quantity'].sum()} units which were sold.\")"
   ]
  },
  {
   "cell_type": "code",
   "execution_count": null,
   "metadata": {
    "colab": {},
    "colab_type": "code",
    "id": "lMChqAOTPFli"
   },
   "outputs": [],
   "source": []
  },
  {
   "cell_type": "code",
   "execution_count": 26,
   "metadata": {
    "colab": {},
    "colab_type": "code",
    "id": "T_dLQZ0b6UJf"
   },
   "outputs": [],
   "source": [
    "dict_year_sale_val=OrderedDict()"
   ]
  },
  {
   "cell_type": "code",
   "execution_count": 27,
   "metadata": {
    "colab": {},
    "colab_type": "code",
    "id": "bbXPc75Y5MJk"
   },
   "outputs": [],
   "source": [
    "#for each in range(len(newdata.groupby(['Year']).Sale_Value.sum())):\n",
    "#   print(newdata.groupby(['Year']).Sale_Value.sum()[each])"
   ]
  },
  {
   "cell_type": "code",
   "execution_count": null,
   "metadata": {
    "colab": {},
    "colab_type": "code",
    "id": "TDX9DOPP5L-r"
   },
   "outputs": [],
   "source": []
  },
  {
   "cell_type": "code",
   "execution_count": 28,
   "metadata": {
    "colab": {},
    "colab_type": "code",
    "id": "Pgp7GHOvCPOV"
   },
   "outputs": [],
   "source": [
    "#random.choice(list(year_statements.values()))\n"
   ]
  },
  {
   "cell_type": "code",
   "execution_count": 29,
   "metadata": {
    "colab": {},
    "colab_type": "code",
    "id": "xYGDJwYE5LzV"
   },
   "outputs": [
    {
     "name": "stdout",
     "output_type": "stream",
     "text": [
      "The sale value for year 2016 is $ 215908.0 with the sale of 19880 quantity.\n",
      "\n",
      "\n",
      "24508 quantities were sold for value $ 250395.0 in the year 2017.\n",
      "\n",
      "\n",
      "The sale value for year 2018 is $ 125597.0 with the sale of 12294 quantity.\n",
      "\n",
      "\n",
      "The sale value for year 2019 is $ 243782.0 with the sale of 21287 quantity.\n",
      "\n",
      "\n"
     ]
    }
   ],
   "source": [
    "year_statements = {} \n",
    "year_statements['sent_1'] = 'The sale value for year {year} is $ {val} with the sale of {quan} quantity.'\n",
    "year_statements['sent_2'] = 'In year {year}, the total sale value was $ {val} after selling {quan} quantities.'\n",
    "year_statements['sent_3'] = '{quan} quantities were sold for value $ {val} in the year {year}.'\n",
    "  \n",
    "year_sale_val=[]\n",
    "year_sale_quan=[]\n",
    "year=[]\n",
    "for each in newdata['Year'].unique():\n",
    "    year_sale_val.append(round(newdata.loc[newdata['Year']==each]['Sale_Value'].sum()))\n",
    "    year_sale_quan.append(round(newdata.loc[newdata['Year']==each]['Sale_Quantity'].sum()))\n",
    "    year.append(each)\n",
    "\n",
    "year_sale_quan_val=zip(year,year_sale_quan,year_sale_val)\n",
    "\n",
    "for year,quan,val in year_sale_quan_val:\n",
    "    random_choice_year=random.choice(list(year_statements.values()))\n",
    "    print(random_choice_year.format(year=year,quan=quan,val=val))\n",
    "    print('\\n')"
   ]
  },
  {
   "cell_type": "code",
   "execution_count": 30,
   "metadata": {
    "colab": {},
    "colab_type": "code",
    "id": "GhHsAOqz5LnZ"
   },
   "outputs": [
    {
     "data": {
      "image/png": "[encoded data removed]",
      "text/plain": [
       "<Figure size 432x288 with 2 Axes>"
      ]
     },
     "metadata": {
      "needs_background": "light"
     },
     "output_type": "display_data"
    }
   ],
   "source": [
    "fig, ax=plt.subplots(1,2)\n",
    "sn.barplot(x='Year',y='Sale_Quantity',data=newdata, estimator=sum, palette='GnBu_d',ax=ax[0])\n",
    "ax[0].set_title('Sales Quantity',fontsize= 8)\n",
    "sn.barplot(x='Year',y='Sale_Value',data=newdata, estimator=sum, palette='coolwarm',ax=ax[1])\n",
    "ax[1].set_title('Sales Value',fontsize= 8)\n",
    "plt.subplots_adjust(wspace = 0.8)\n",
    "plt.ticklabel_format(axis='y', style='plain')\n",
    "plt.tight_layout()"
   ]
  },
  {
   "cell_type": "code",
   "execution_count": null,
   "metadata": {
    "colab": {},
    "colab_type": "code",
    "id": "7bZgwbYC5Lc1"
   },
   "outputs": [],
   "source": []
  },
  {
   "cell_type": "code",
   "execution_count": null,
   "metadata": {
    "colab": {},
    "colab_type": "code",
    "id": "Vgb9W-JBQ3t6"
   },
   "outputs": [],
   "source": []
  },
  {
   "cell_type": "code",
   "execution_count": 31,
   "metadata": {
    "colab": {},
    "colab_type": "code",
    "id": "hj-ZmI4kSBCb"
   },
   "outputs": [],
   "source": [
    "store_status_statements = {} \n",
    "store_status_statements['sent_1'] = 'The total number of Active stores are {active} and remaining number of Inactive stores are {inactive}.'\n",
    "store_status_statements['sent_2'] = 'Currently, there are {active} numbers of stores working and {inactive} stores have been shutted down.'\n",
    "store_status_statements['sent_3'] = 'From the total number of stores, {active} number of stores are functioning and rest {inactive} are not functioning as of now.'\n",
    "\n",
    "active=newdata['Store_Status'].value_counts()[0]\n",
    "inactive=newdata['Store_Status'].value_counts()[1]\n",
    "\n",
    "# random_store_status_choice=random.choice(list(store_status_statements.values()))\n",
    "# print(random_store_status_choice.format(active=active, inactive=inactive))\n",
    "# print('\\n')"
   ]
  },
  {
   "cell_type": "code",
   "execution_count": 32,
   "metadata": {
    "colab": {},
    "colab_type": "code",
    "id": "16kCdlPtQ3Vi"
   },
   "outputs": [],
   "source": [
    "# fig=plt.figure()\n",
    "# ax=fig.add_subplot(111)\n",
    "# sn.countplot(newdata['Store_Status'],palette=\"Set2\", ax=ax)\n",
    "# plt.ticklabel_format(axis='y', style='plain')"
   ]
  },
  {
   "cell_type": "code",
   "execution_count": null,
   "metadata": {
    "colab": {},
    "colab_type": "code",
    "id": "_TeYHlPkQ6rR"
   },
   "outputs": [],
   "source": []
  },
  {
   "cell_type": "code",
   "execution_count": null,
   "metadata": {
    "colab": {},
    "colab_type": "code",
    "id": "41XUo6APQ7XD"
   },
   "outputs": [],
   "source": []
  },
  {
   "cell_type": "code",
   "execution_count": null,
   "metadata": {
    "colab": {},
    "colab_type": "code",
    "id": "bNwZKAVW5LSf"
   },
   "outputs": [],
   "source": []
  },
  {
   "cell_type": "code",
   "execution_count": 33,
   "metadata": {
    "colab": {},
    "colab_type": "code",
    "id": "hYKtnaBh5LIX"
   },
   "outputs": [],
   "source": [
    "month_maxsale_statements = {} \n",
    "month_maxsale_statements['sent_1'] = 'The maximum sale was done in a month {month} of last year {year} and the amount is $ {val} with the selling of quantities {quan}.'\n",
    "month_maxsale_statements['sent_2'] = 'During the month of {month} of previous year {year}, the maximum sale was done and the value was {quan} after selling $ {val} quantities.'\n",
    "month_maxsale_statements['sent_3'] = 'Last year in {year} and month {month}, the maximum sale of $ {val} was completed with the selling of {quan} quantities.'\n",
    "  \n",
    "month_minsale_statements = {} \n",
    "month_minsale_statements['sent_1'] = 'Also, In {month} month of previous year, it shows that a minimum sale of $ {val} was done with the selling of quantities {quan}.'\n",
    "month_minsale_statements['sent_2'] = 'We can see that during the {month} month of previous year, the minimum sale was done and the value was $ {val} after selling {quan} quantities.'\n",
    "month_minsale_statements['sent_3'] = 'In same year, during month {month}, the miniumum sale of amount $ {val} was completed with the selling {quan} quantities.'  \n",
    "  \n",
    "recent_year=newdata['Year'].max()\n",
    "slice_rec_year=newdata.loc[newdata['Year']==recent_year]\n",
    "max_month_slice_rec_year=slice_rec_year.groupby(['Month'])['Sale_Value', 'Sale_Quantity'].sum().round().sort_values(by='Sale_Value',ascending=False).index[0]\n",
    "min_month_slice_rec_year=slice_rec_year.groupby(['Month'])['Sale_Value', 'Sale_Quantity'].sum().round().sort_values(by='Sale_Value',ascending=False).index[-1]\n",
    "\n",
    "max_val_slice_rec_year=slice_rec_year.groupby(['Month'])['Sale_Value', 'Sale_Quantity'].sum().round().sort_values(by='Sale_Value',ascending=False).iloc[0][0]\n",
    "min_val_slice_rec_year=slice_rec_year.groupby(['Month'])['Sale_Value', 'Sale_Quantity'].sum().round().sort_values(by='Sale_Value',ascending=False).iloc[-1][0]\n",
    "\n",
    "max_quan_slice_rec_year=slice_rec_year.groupby(['Month'])['Sale_Value', 'Sale_Quantity'].sum().round().sort_values(by='Sale_Value',ascending=False).iloc[0][1]\n",
    "min_quan_slice_rec_year=slice_rec_year.groupby(['Month'])['Sale_Value', 'Sale_Quantity'].sum().round().sort_values(by='Sale_Value',ascending=False).iloc[-1][1]\n",
    "\n",
    "\n",
    "# random_maxsale_choice=random.choice(list(month_maxsale_statements.values()))\n",
    "# print(random_maxsale_choice.format(year=recent_year,month=max_month_slice_rec_year,quan=max_quan_slice_rec_year,val=max_val_slice_rec_year))\n",
    "# print('\\n')\n",
    "\n",
    "# random_minsale_choice=random.choice(list(month_minsale_statements.values()))\n",
    "# print(random_minsale_choice.format(month=min_month_slice_rec_year,quan=min_quan_slice_rec_year,val=min_val_slice_rec_year))\n",
    "# print('\\n')\n"
   ]
  },
  {
   "cell_type": "code",
   "execution_count": 34,
   "metadata": {
    "colab": {},
    "colab_type": "code",
    "id": "1HM1J1zi5Kz_"
   },
   "outputs": [],
   "source": [
    "# slice_rec_year.groupby(['Month'])['Sale_Value', 'Sale_Quantity'].sum().round().sort_values(by='Sale_Value',ascending=False).plot.bar(colormap=ListedColormap(sn.color_palette(\"GnBu\")))\n",
    "# plt.ticklabel_format(axis='y', style='plain')"
   ]
  },
  {
   "cell_type": "code",
   "execution_count": 35,
   "metadata": {
    "colab": {},
    "colab_type": "code",
    "id": "oCgtun3olfmR"
   },
   "outputs": [
    {
     "data": {
      "text/plain": [
       "pandas.core.frame.DataFrame"
      ]
     },
     "execution_count": 35,
     "metadata": {},
     "output_type": "execute_result"
    }
   ],
   "source": [
    "type(slice_rec_year)"
   ]
  },
  {
   "cell_type": "code",
   "execution_count": 36,
   "metadata": {
    "colab": {},
    "colab_type": "code",
    "id": "4YxelwZolfWY"
   },
   "outputs": [
    {
     "data": {
      "text/html": [
       "<div>\n",
       "<style scoped>\n",
       "    .dataframe tbody tr th:only-of-type {\n",
       "        vertical-align: middle;\n",
       "    }\n",
       "\n",
       "    .dataframe tbody tr th {\n",
       "        vertical-align: top;\n",
       "    }\n",
       "\n",
       "    .dataframe thead th {\n",
       "        text-align: right;\n",
       "    }\n",
       "</style>\n",
       "<table border=\"1\" class=\"dataframe\">\n",
       "  <thead>\n",
       "    <tr style=\"text-align: right;\">\n",
       "      <th></th>\n",
       "      <th>Sale_Value</th>\n",
       "      <th>Sale_Quantity</th>\n",
       "    </tr>\n",
       "    <tr>\n",
       "      <th>Month</th>\n",
       "      <th></th>\n",
       "      <th></th>\n",
       "    </tr>\n",
       "  </thead>\n",
       "  <tbody>\n",
       "    <tr>\n",
       "      <td>MAR</td>\n",
       "      <td>106936.0</td>\n",
       "      <td>7868</td>\n",
       "    </tr>\n",
       "    <tr>\n",
       "      <td>APR</td>\n",
       "      <td>84560.0</td>\n",
       "      <td>8754</td>\n",
       "    </tr>\n",
       "    <tr>\n",
       "      <td>FEB</td>\n",
       "      <td>41705.0</td>\n",
       "      <td>3654</td>\n",
       "    </tr>\n",
       "    <tr>\n",
       "      <td>JAN</td>\n",
       "      <td>10460.0</td>\n",
       "      <td>1000</td>\n",
       "    </tr>\n",
       "    <tr>\n",
       "      <td>MAY</td>\n",
       "      <td>121.0</td>\n",
       "      <td>11</td>\n",
       "    </tr>\n",
       "  </tbody>\n",
       "</table>\n",
       "</div>"
      ],
      "text/plain": [
       "       Sale_Value  Sale_Quantity\n",
       "Month                           \n",
       "MAR      106936.0           7868\n",
       "APR       84560.0           8754\n",
       "FEB       41705.0           3654\n",
       "JAN       10460.0           1000\n",
       "MAY         121.0             11"
      ]
     },
     "execution_count": 36,
     "metadata": {},
     "output_type": "execute_result"
    }
   ],
   "source": [
    "slice_rec_year.groupby(['Month'])['Sale_Value', 'Sale_Quantity'].sum().round().sort_values(by='Sale_Value',ascending=False)"
   ]
  },
  {
   "cell_type": "code",
   "execution_count": 37,
   "metadata": {
    "colab": {
     "base_uri": "https://localhost:8080/",
     "height": 122
    },
    "colab_type": "code",
    "executionInfo": {
     "elapsed": 37503,
     "status": "ok",
     "timestamp": 1562391755949,
     "user": {
      "displayName": "Jignesh Waghela",
      "photoUrl": "https://lh6.googleusercontent.com/-f8Yjb8E7LzQ/AAAAAAAAAAI/AAAAAAAABBM/8xasGcg_ASI/s64/photo.jpg",
      "userId": "15009887095695855672"
     },
     "user_tz": -330
    },
    "id": "t8wEwK0N5Kpj",
    "outputId": "0530c403-f67b-46ff-82c8-c88f2c3ef9ee"
   },
   "outputs": [
    {
     "name": "stderr",
     "output_type": "stream",
     "text": [
      "C:\\Anaconda3\\lib\\site-packages\\pandas\\core\\frame.py:4263: SettingWithCopyWarning: \n",
      "A value is trying to be set on a copy of a slice from a DataFrame\n",
      "\n",
      "See the caveats in the documentation: http://pandas.pydata.org/pandas-docs/stable/user_guide/indexing.html#returning-a-view-versus-a-copy\n",
      "  method=method,\n"
     ]
    }
   ],
   "source": [
    "store_maxsale_statements = {} \n",
    "store_maxsale_statements['sent_1'] = 'Maximum sale was completed from region {region} and the amount which was collected is $ {val} with sale of quantities {quan}.'\n",
    "store_maxsale_statements['sent_2'] = 'From {region} region, the maximum sale was done and the sum of amount from here is $ {val} after selling {quan} quantities.'\n",
    "store_maxsale_statements['sent_3'] = 'The region {region} has completed the maximum sale of $ {val} with the sale of {quan} quantities.'\n",
    "  \n",
    "store_minsale_statements = {} \n",
    "store_minsale_statements['sent_1'] = 'Region {region} has minimum sale of $ {val} with a sale of {quan} quantities.'\n",
    "store_minsale_statements['sent_2'] = 'Lowest sale was done from {region} region and the value was $ {val} after selling {quan} quantities.'\n",
    "store_minsale_statements['sent_3'] = 'The least sum collected is of amount $ {val} after selling {quan} quantities from the region {region}.'  \n",
    "  \n",
    "recent_year=newdata['Year'].max()\n",
    "slice_rec_year=newdata.loc[newdata['Year']==recent_year]\n",
    "slice_rec_year.replace('nan','\"UNKNOWN\"', inplace=True)\n",
    "\n",
    "regionname_max=slice_rec_year.groupby(['Store_Region'])['Sale_Value', 'Sale_Quantity'].sum().round().sort_values(by='Sale_Value',ascending=False).index[0] #region\n",
    "regionname_min=slice_rec_year.groupby(['Store_Region'])['Sale_Value', 'Sale_Quantity'].sum().round().sort_values(by='Sale_Value',ascending=False).index[-1] #region\n",
    "\n",
    "storeval_max=slice_rec_year.groupby(['Store_Region'])['Sale_Value', 'Sale_Quantity'].sum().round().sort_values(by='Sale_Value',ascending=False).iloc[0][0] #storevalue\n",
    "storequan_max=slice_rec_year.groupby(['Store_Region'])['Sale_Value', 'Sale_Quantity'].sum().round().sort_values(by='Sale_Value',ascending=False).iloc[0][1] #storequantity\n",
    "\n",
    "storeval_min=slice_rec_year.groupby(['Store_Region'])['Sale_Value', 'Sale_Quantity'].sum().round().sort_values(by='Sale_Value',ascending=False).iloc[-1][0] #storevalue\n",
    "storequan_min=slice_rec_year.groupby(['Store_Region'])['Sale_Value', 'Sale_Quantity'].sum().round().sort_values(by='Sale_Value',ascending=False).iloc[-1][1] #storequantity\n",
    "\n",
    "# random_maxstore_choice=random.choice(list(store_maxsale_statements.values()))\n",
    "# print(random_maxstore_choice.format(region=regionname_max,quan=storequan_max,val=storeval_max))\n",
    "# print('\\n')\n",
    "\n",
    "# random_minstore_choice=random.choice(list(store_minsale_statements.values()))\n",
    "# print(random_minstore_choice.format(region=regionname_min,quan=storequan_min,val=storeval_min))\n",
    "# print('\\n')\n"
   ]
  },
  {
   "cell_type": "code",
   "execution_count": 38,
   "metadata": {
    "colab": {},
    "colab_type": "code",
    "id": "28jYC8Pw5KfI"
   },
   "outputs": [],
   "source": [
    "# slice_rec_year.groupby(['Store_Region'])['Sale_Value', 'Sale_Quantity'].sum().round().sort_values(by='Sale_Value',ascending=False).plot.bar(figsize=(15,5))\n",
    "# plt.ticklabel_format(axis='y', style='plain')"
   ]
  },
  {
   "cell_type": "code",
   "execution_count": null,
   "metadata": {
    "colab": {},
    "colab_type": "code",
    "id": "ygSFiRWq5KU2"
   },
   "outputs": [],
   "source": []
  },
  {
   "cell_type": "code",
   "execution_count": null,
   "metadata": {
    "colab": {},
    "colab_type": "code",
    "id": "bIoyrh5B5KKv"
   },
   "outputs": [],
   "source": []
  },
  {
   "cell_type": "code",
   "execution_count": 39,
   "metadata": {
    "colab": {
     "base_uri": "https://localhost:8080/",
     "height": 122
    },
    "colab_type": "code",
    "executionInfo": {
     "elapsed": 37521,
     "status": "ok",
     "timestamp": 1562391755971,
     "user": {
      "displayName": "Jignesh Waghela",
      "photoUrl": "https://lh6.googleusercontent.com/-f8Yjb8E7LzQ/AAAAAAAAAAI/AAAAAAAABBM/8xasGcg_ASI/s64/photo.jpg",
      "userId": "15009887095695855672"
     },
     "user_tz": -330
    },
    "id": "nU7iJx395KA3",
    "outputId": "0324caf4-4198-4134-cb11-86d0055d363e"
   },
   "outputs": [],
   "source": [
    "product_maxsale_statements = {} \n",
    "product_maxsale_statements['sent_1'] = 'The sub product named {subprod} from product {prod} collected maximum amount of $ {val} with sale of quantities {quan}.'\n",
    "product_maxsale_statements['sent_2'] = 'From product {prod}, the sub product of {subprod} region, the maximum sale was done and amount collected from here is $ {val} after selling {quan} quantities.'\n",
    "product_maxsale_statements['sent_3'] = 'The largest number in terms of revenue collected is of $ {val} after selling {quan} quantities, by selling {subprod} in product {prod}.'\n",
    "  \n",
    "product_minsale_statements = {} \n",
    "product_minsale_statements['sent_1'] = 'Minimum amount collected is by sale of {subprod} in product category of {prod} and this product affected revenue,\\nby the sale numbers of $ {val} amount after selling {quan} quantities'\n",
    "product_minsale_statements['sent_2'] = 'Lowest business done is of amount $ {val} by sale of sub product {subprod} in category {prod},\\nafter selling {quan} quantities, which resulted in decline of total revenue.'\n",
    "product_minsale_statements['sent_3'] = 'Amount of $ {val} was collected by selling of {subprod} in {prod} product category, which is least compare to all after the sale of {quan} quantities \\nand we can see this affected overall business as well'  \n",
    "  \n",
    "recent_year=newdata['Year'].max()\n",
    "slice_rec_year=newdata.loc[newdata['Year']==recent_year]\n",
    "slice_rec_year.replace('nan','\"UNKNOWN\"', inplace=True)\n",
    "\n",
    "prodname_max=slice_rec_year.groupby(['Product_Group_Category','Product_Group_Sub_Category'])['Sale_Value', 'Sale_Quantity'].sum().round().sort_values(by='Sale_Value',ascending=False).index[0][0] #prod\n",
    "subprodname_max=slice_rec_year.groupby(['Product_Group_Category','Product_Group_Sub_Category'])['Sale_Value', 'Sale_Quantity'].sum().round().sort_values(by='Sale_Value',ascending=False).index[0][1] #subprod\n",
    "\n",
    "prodname_min=slice_rec_year.groupby(['Product_Group_Category','Product_Group_Sub_Category'])['Sale_Value', 'Sale_Quantity'].sum().round().sort_values(by='Sale_Value',ascending=False).index[-1][0] #prod\n",
    "subprodname_min=slice_rec_year.groupby(['Product_Group_Category','Product_Group_Sub_Category'])['Sale_Value', 'Sale_Quantity'].sum().round().sort_values(by='Sale_Value',ascending=False).index[-1][1] #subprod\n",
    "\n",
    "prodval_max=slice_rec_year.groupby(['Product_Group_Category','Product_Group_Sub_Category'])['Sale_Value', 'Sale_Quantity'].sum().round().sort_values(by='Sale_Value',ascending=False).iloc[0][0] #storevalue\n",
    "subprodquan_max=slice_rec_year.groupby(['Product_Group_Category','Product_Group_Sub_Category'])['Sale_Value', 'Sale_Quantity'].sum().round().sort_values(by='Sale_Value',ascending=False).iloc[0][1] #storequantity\n",
    "\n",
    "prodval_min=slice_rec_year.groupby(['Product_Group_Category','Product_Group_Sub_Category'])['Sale_Value', 'Sale_Quantity'].sum().round().sort_values(by='Sale_Value',ascending=False).iloc[-1][0] #storevalue\n",
    "subprodquan_min=slice_rec_year.groupby(['Product_Group_Category','Product_Group_Sub_Category'])['Sale_Value', 'Sale_Quantity'].sum().round().sort_values(by='Sale_Value',ascending=False).iloc[-1][1] #storequantity\n",
    "\n",
    "# random_maxprod_choice=random.choice(list(product_maxsale_statements.values()))\n",
    "# print(random_maxprod_choice.format(subprod=subprodname_max,prod=prodname_max,quan=subprodquan_max,val=prodval_max))\n",
    "# print('\\n')\n",
    "\n",
    "# random_minprod_choice=random.choice(list(product_minsale_statements.values()))\n",
    "# print(random_minprod_choice.format(subprod=subprodname_min,prod=prodname_min,quan=subprodquan_min,val=prodval_min))\n",
    "# print('\\n')\n"
   ]
  },
  {
   "cell_type": "code",
   "execution_count": 44,
   "metadata": {
    "colab": {},
    "colab_type": "code",
    "id": "CQnxDiCz5Jkk"
   },
   "outputs": [
    {
     "data": {
      "image/png": "[encoded data removed]",
      "text/plain": [
       "<Figure size 864x576 with 2 Axes>"
      ]
     },
     "metadata": {},
     "output_type": "display_data"
    }
   ],
   "source": [
    "\n",
    "slice_rec_year.groupby(['Product_Group_Category','Product_Group_Sub_Category'])['Sale_Value', 'Sale_Quantity'].sum().round().sort_values(by='Sale_Value',ascending=False).plot.pie(subplots=True, figsize=(12,8), shadow=True, legend=False)\n",
    "plt.figlegend(labels=newdata['Product_Group_Sub_Category'].unique(), loc = 'lower center', ncol=5, labelspacing=0. )\n",
    "plt.tight_layout()"
   ]
  },
  {
   "cell_type": "code",
   "execution_count": null,
   "metadata": {
    "colab": {},
    "colab_type": "code",
    "id": "GfiPRAF05Jbn"
   },
   "outputs": [],
   "source": []
  },
  {
   "cell_type": "code",
   "execution_count": null,
   "metadata": {
    "colab": {},
    "colab_type": "code",
    "id": "_n8RYKkQ5JSu"
   },
   "outputs": [],
   "source": []
  },
  {
   "cell_type": "code",
   "execution_count": 41,
   "metadata": {
    "colab": {},
    "colab_type": "code",
    "id": "T2toLKvy5JKG"
   },
   "outputs": [],
   "source": [
    "# year_statements = {} \n",
    "# year_statements['sent_1'] = 'The sale value for year {year} is $ {val} with the sale of $ {quan} quantity.'\n",
    "# year_statements['sent_2'] = 'In year {year}, the total sale value was $ {val} after selling {quan} quantities.'\n",
    "# year_statements['sent_3'] = '{quan} quantities were sold for value $ {val} in the year {year}.'\n",
    "  \n",
    "# year_sale_val=[]\n",
    "# year_sale_quan=[]\n",
    "# year=[]\n",
    "\n",
    "# for each in newdata['Year'].unique():\n",
    "#   year_sale_val.append(round(newdata.loc[newdata['Year']==each]['Sale_Value'].sum()))\n",
    "#   year_sale_quan.append(round(newdata.loc[newdata['Year']==each]['Sale_Quantity'].sum()))\n",
    "#   year.append(each)\n",
    "\n",
    "# year_sale_quan_val=zip(year,year_sale_quan,year_sale_val)\n",
    "\n",
    "# for year,quan,val in year_sale_quan_val:\n",
    "#   random_choice=random.choice(list(year_statements.values()))\n",
    "#   print(random_choice.format(year=year,quan=quan,val=val))\n",
    "#   print('\\n')\n",
    "\n",
    "\n",
    "# fig, ax=plt.subplots(1,2)\n",
    "# sn.barplot(x='Year',y='Sale_Quantity',data=newdata, estimator=sum, palette='GnBu_d',ax=ax[0])\n",
    "# ax[0].set_title('Sales Quantity',fontsize= 8)\n",
    "# sn.barplot(x='Year',y='Sale_Value',data=newdata, estimator=sum, palette='coolwarm',ax=ax[1])\n",
    "# ax[1].set_title('Sales Value',fontsize= 8)\n",
    "# plt.tight_layout()\n",
    "# plt.subplots_adjust(wspace = 0.8)\n",
    "# plt.ticklabel_format(axis='y', style='plain')\n",
    "# print('\\n')\n",
    "\n",
    "\n",
    "\n",
    "# random_store_status_choice=random.choice(list(store_status_statements.values()))\n",
    "# print(random_store_status_choice.format(active=active, inactive=inactive))\n",
    "# print('\\n')\n",
    "\n",
    "# fig=plt.figure()\n",
    "# ax=fig.add_subplot(111)\n",
    "# sn.countplot(newdata['Store_Status'],palette=\"Set2\", ax=ax)\n",
    "# plt.ticklabel_format(axis='y', style='plain')\n",
    "# print('\\n')\n",
    "\n",
    "\n",
    "# random_maxsale_choice=random.choice(list(month_maxsale_statements.values()))\n",
    "# print(random_maxsale_choice.format(year=recent_year,month=max_month_slice_rec_year,quan=max_quan_slice_rec_year,val=max_val_slice_rec_year))\n",
    "# print('\\n')\n",
    "\n",
    "# random_minsale_choice=random.choice(list(month_minsale_statements.values()))\n",
    "# print(random_minsale_choice.format(month=min_month_slice_rec_year,quan=min_quan_slice_rec_year,val=min_val_slice_rec_year))\n",
    "# print('\\n')\n",
    "\n",
    "# slice_rec_year.groupby(['Month'])['Sale_Value', 'Sale_Quantity'].sum().round().sort_values(by='Sale_Value',ascending=False).plot.bar(colormap=ListedColormap(sn.color_palette(\"GnBu\")))\n",
    "# plt.ticklabel_format(axis='y', style='plain')\n",
    "# print('\\n')\n",
    "\n",
    "\n",
    "# random_maxstore_choice=random.choice(list(store_maxsale_statements.values()))\n",
    "# print(random_maxstore_choice.format(region=regionname_max,quan=storequan_max,val=storeval_max))\n",
    "# print('\\n')\n",
    "\n",
    "# random_minstore_choice=random.choice(list(store_minsale_statements.values()))\n",
    "# print(random_minstore_choice.format(region=regionname_min,quan=storequan_min,val=storeval_min))\n",
    "# print('\\n')\n",
    "\n",
    "# slice_rec_year.groupby(['Store_Region'])['Sale_Value', 'Sale_Quantity'].sum().round().sort_values(by='Sale_Value',ascending=False).plot.bar(figsize=(15,5))\n",
    "# plt.ticklabel_format(axis='y', style='plain')\n",
    "# print('\\n')\n",
    "\n",
    "\n",
    "# random_maxprod_choice=random.choice(list(product_maxsale_statements.values()))\n",
    "# print(random_maxprod_choice.format(subprod=subprodname_max,prod=prodname_max,quan=subprodquan_max,val=prodval_max))\n",
    "# print('\\n')\n",
    "\n",
    "# random_minprod_choice=random.choice(list(product_minsale_statements.values()))\n",
    "# print(random_minprod_choice.format(subprod=subprodname_min,prod=prodname_min,quan=subprodquan_min,val=prodval_min))\n",
    "# print('\\n')\n",
    "\n",
    "\n",
    "# slice_rec_year.groupby(['Product_Group_Category','Product_Group_Sub_Category'])['Sale_Value', 'Sale_Quantity'].sum().round().sort_values(by='Sale_Value',ascending=False).plot.pie(subplots=True, figsize=(12,8), shadow=True, legend=False)\n",
    "# plt.figlegend(labels=newdata['Product_Group_Sub_Category'].unique(), loc = 'lower center', ncol=5, labelspacing=0. )\n",
    "# plt.tight_layout()\n",
    "# print('\\n')\n"
   ]
  },
  {
   "cell_type": "code",
   "execution_count": null,
   "metadata": {
    "colab": {},
    "colab_type": "code",
    "id": "RsZzk-w25JBm"
   },
   "outputs": [],
   "source": []
  },
  {
   "cell_type": "code",
   "execution_count": null,
   "metadata": {
    "colab": {},
    "colab_type": "code",
    "id": "rtRUysIg5I5N"
   },
   "outputs": [],
   "source": []
  },
  {
   "cell_type": "code",
   "execution_count": null,
   "metadata": {
    "colab": {},
    "colab_type": "code",
    "id": "3Mba1jad5Iw_"
   },
   "outputs": [],
   "source": []
  },
  {
   "cell_type": "code",
   "execution_count": null,
   "metadata": {
    "colab": {},
    "colab_type": "code",
    "id": "jP59DV0SqmGA"
   },
   "outputs": [],
   "source": []
  },
  {
   "cell_type": "code",
   "execution_count": 42,
   "metadata": {
    "colab": {
     "base_uri": "https://localhost:8080/",
     "height": 1000
    },
    "colab_type": "code",
    "executionInfo": {
     "elapsed": 43093,
     "status": "ok",
     "timestamp": 1562391761565,
     "user": {
      "displayName": "Jignesh Waghela",
      "photoUrl": "https://lh6.googleusercontent.com/-f8Yjb8E7LzQ/AAAAAAAAAAI/AAAAAAAABBM/8xasGcg_ASI/s64/photo.jpg",
      "userId": "15009887095695855672"
     },
     "user_tz": -330
    },
    "id": "PCcQfb12qihm",
    "outputId": "80709568-b566-4a86-8bf6-993dad934ef7"
   },
   "outputs": [
    {
     "data": {
      "image/png": "[encoded data removed]",
      "text/plain": [
       "<Figure size 432x216 with 2 Axes>"
      ]
     },
     "metadata": {
      "needs_background": "light"
     },
     "output_type": "display_data"
    },
    {
     "data": {
      "image/png": "[encoded data removed]",
      "text/plain": [
       "<Figure size 432x216 with 1 Axes>"
      ]
     },
     "metadata": {
      "needs_background": "light"
     },
     "output_type": "display_data"
    },
    {
     "data": {
      "image/png": "[encoded data removed]",
      "text/plain": [
       "<Figure size 432x216 with 1 Axes>"
      ]
     },
     "metadata": {
      "needs_background": "light"
     },
     "output_type": "display_data"
    },
    {
     "data": {
      "image/png": "[encoded data removed]",
      "text/plain": [
       "<Figure size 576x288 with 1 Axes>"
      ]
     },
     "metadata": {
      "needs_background": "light"
     },
     "output_type": "display_data"
    },
    {
     "data": {
      "image/png": "[encoded data removed]",
      "text/plain": [
       "<Figure size 504x360 with 2 Axes>"
      ]
     },
     "metadata": {},
     "output_type": "display_data"
    }
   ],
   "source": [
    "year_statements = {} \n",
    "year_statements['sent_1'] = 'The sale value for year {year} is $ {val} with the sale of {quan} quantities.'\n",
    "year_statements['sent_2'] = 'In year {year}, the total sale value was $ {val} after selling {quan} quantities.'\n",
    "year_statements['sent_3'] = '{quan} quantities were sold for value $ {val} in the year {year}.'\n",
    "  \n",
    "year_sale_val=[]\n",
    "year_sale_quan=[]\n",
    "year=[]\n",
    "all_statements=[]\n",
    "\n",
    "for each in newdata['Year'].unique():\n",
    "    year_sale_val.append(round(newdata.loc[newdata['Year']==each]['Sale_Value'].sum()))\n",
    "    year_sale_quan.append(round(newdata.loc[newdata['Year']==each]['Sale_Quantity'].sum()))\n",
    "    year.append(each)\n",
    "\n",
    "year_sale_quan_val=zip(year,year_sale_quan,year_sale_val)\n",
    "\n",
    "for year,quan,val in year_sale_quan_val:\n",
    "    random_choice=random.choice(list(year_statements.values()))\n",
    "    all_statements.append(random_choice.format(year=year,quan=quan,val=val))\n",
    "\n",
    "\n",
    "# all_statements\n",
    "\n",
    "random_store_status_choice=random.choice(list(store_status_statements.values()))\n",
    "random_store_status_choice_state=random_store_status_choice.format(active=active, inactive=inactive)\n",
    "\n",
    "\n",
    "random_maxsale_choice=random.choice(list(month_maxsale_statements.values()))\n",
    "random_maxsale_choice_state=random_maxsale_choice.format(year=recent_year,month=max_month_slice_rec_year,quan=max_quan_slice_rec_year,val=max_val_slice_rec_year)\n",
    "\n",
    "random_minsale_choice=random.choice(list(month_minsale_statements.values()))\n",
    "random_minsale_choice_state=random_minsale_choice.format(month=min_month_slice_rec_year,quan=min_quan_slice_rec_year,val=min_val_slice_rec_year)\n",
    "\n",
    "random_maxstore_choice=random.choice(list(store_maxsale_statements.values()))\n",
    "random_maxstore_choice_state=random_maxstore_choice.format(region=regionname_max,quan=storequan_max,val=storeval_max)\n",
    "\n",
    "random_minstore_choice=random.choice(list(store_minsale_statements.values()))\n",
    "random_minstore_choice_state=random_minstore_choice.format(region=regionname_min,quan=storequan_min,val=storeval_min)\n",
    "\n",
    "random_maxprod_choice=random.choice(list(product_maxsale_statements.values()))\n",
    "random_maxprod_choice_state=random_maxprod_choice.format(subprod=subprodname_max,prod=prodname_max,quan=subprodquan_max,val=prodval_max)\n",
    "\n",
    "random_minprod_choice=random.choice(list(product_minsale_statements.values()))\n",
    "random_minprod_choice_state=random_minprod_choice.format(subprod=subprodname_min,prod=prodname_min,quan=subprodquan_min,val=prodval_min)\n",
    "\n",
    "\n",
    "\n",
    "fig, ax=plt.subplots(1,2, figsize=(6,3))\n",
    "sn.barplot(x='Year',y='Sale_Quantity',data=newdata, estimator=sum, palette='GnBu_d',ax=ax[0])\n",
    "ax[0].set_title('Sales Quantity',fontsize= 8)\n",
    "sn.barplot(x='Year',y='Sale_Value',data=newdata, estimator=sum, palette='coolwarm',ax=ax[1])\n",
    "ax[1].set_title('Sales Value',fontsize= 8)\n",
    "plt.tight_layout()\n",
    "plt.subplots_adjust(wspace = 0.8)\n",
    "plt.ticklabel_format(axis='y', style='plain')\n",
    "plt.savefig(r'C:\\Users\\Hp\\OneDrive\\Documents\\NLP IN PYTHON COURSE\\Narratives\\Narrative2Plot\\year_plot.png',bbox_inches='tight',dpi=100,figsize=(6,3))\n",
    "\n",
    "\n",
    "fig=plt.figure(figsize=(6,3))\n",
    "ax=fig.add_subplot(111)\n",
    "sn.countplot(newdata['Store_Status'],palette=\"Set2\", ax=ax)\n",
    "plt.ticklabel_format(axis='y', style='plain')\n",
    "plt.savefig(r'C:\\Users\\Hp\\OneDrive\\Documents\\NLP IN PYTHON COURSE\\Narratives\\Narrative2Plot\\store_status_plot.png',bbox_inches='tight',dpi=100,figsize=(6,3))\n",
    "\n",
    "slice_rec_year.groupby(['Month'])['Sale_Value', 'Sale_Quantity'].sum().round().sort_values(by='Sale_Value',ascending=False).plot.bar(colormap=ListedColormap(sn.color_palette(\"GnBu\")),figsize=(6,3))\n",
    "plt.ticklabel_format(axis='y', style='plain')\n",
    "plt.savefig(r'C:\\Users\\Hp\\OneDrive\\Documents\\NLP IN PYTHON COURSE\\Narratives\\Narrative2Plot\\month_rev_plot.png',bbox_inches='tight',dpi=100,figsize=(6,3))\n",
    "\n",
    "slice_rec_year.groupby(['Store_Region'])['Sale_Value', 'Sale_Quantity'].sum().round().sort_values(by='Sale_Value',ascending=False).plot.bar(figsize=(8,4))\n",
    "plt.ticklabel_format(axis='y', style='plain')\n",
    "plt.savefig(r'C:\\Users\\Hp\\OneDrive\\Documents\\NLP IN PYTHON COURSE\\Narratives\\Narrative2Plot\\region_plot.png',bbox_inches='tight',dpi=100)\n",
    "\n",
    "slice_rec_year.groupby(['Product_Group_Sub_Category'])['Sale_Value', 'Sale_Quantity'].sum().round().sort_values(by='Sale_Value',ascending=False).plot.pie(subplots=True, figsize=(7,5), shadow=True, legend=False)\n",
    "plt.figlegend(labels=newdata['Product_Group_Sub_Category'].unique(), loc = 'lower left', ncol=3, labelspacing=0. )\n",
    "plt.tight_layout()\n",
    "plt.savefig(r'C:\\Users\\Hp\\OneDrive\\Documents\\NLP IN PYTHON COURSE\\Narratives\\Narrative2Plot\\prod_plot.png',bbox_inches='tight',dpi=100)\n"
   ]
  },
  {
   "cell_type": "code",
   "execution_count": null,
   "metadata": {
    "colab": {},
    "colab_type": "code",
    "id": "YikKxvIL0466"
   },
   "outputs": [],
   "source": []
  },
  {
   "cell_type": "code",
   "execution_count": 43,
   "metadata": {
    "colab": {},
    "colab_type": "code",
    "id": "T6dIiBjjata5"
   },
   "outputs": [],
   "source": [
    "  \n",
    "# create an instance of a word document \n",
    "doc = docx.Document() \n",
    "  \n",
    "# add a heading of level 0 (largest heading) \n",
    "doc.add_heading('Narratives and Graphs', 0)\n",
    "  \n",
    "# add a paragraph and store  \n",
    "# the object in a variable \n",
    "for each_sent in all_statements:\n",
    "    doc_para1 = doc.add_paragraph(each_sent,style='List Bullet')\n",
    "    doc_para1.add_run().bold = True\n",
    "doc.add_picture(r'C:\\Users\\Hp\\OneDrive\\Documents\\NLP IN PYTHON COURSE\\Narratives\\Narrative2Plot\\year_plot.png') \n",
    "\n",
    "\n",
    "doc_para2 = doc.add_paragraph(random_store_status_choice_state,style='List Bullet')\n",
    "doc_para2.add_run().bold = True\n",
    "doc.add_picture(r'C:\\Users\\Hp\\OneDrive\\Documents\\NLP IN PYTHON COURSE\\Narratives\\Narrative2Plot\\store_status_plot.png') \n",
    "\n",
    "doc.add_page_break()\n",
    "\n",
    "\n",
    "doc_para3 = doc.add_paragraph(random_maxsale_choice_state,style='List Bullet')\n",
    "doc_para3.add_run().bold = True\n",
    "\n",
    "doc_para4 = doc.add_paragraph(random_minsale_choice_state,style='List Bullet')\n",
    "doc_para4.add_run().bold = True\n",
    "doc.add_picture(r'C:\\Users\\Hp\\OneDrive\\Documents\\NLP IN PYTHON COURSE\\Narratives\\Narrative2Plot\\month_rev_plot.png') \n",
    "\n",
    "doc.add_page_break()\n",
    "\n",
    "\n",
    "doc_para5 = doc.add_paragraph(random_maxstore_choice_state,style='List Bullet')\n",
    "doc_para5.add_run().bold = True\n",
    "\n",
    "doc_para6 = doc.add_paragraph(random_minstore_choice_state,style='List Bullet')\n",
    "doc_para6.add_run().bold = True\n",
    "doc.add_picture(r'C:\\Users\\Hp\\OneDrive\\Documents\\NLP IN PYTHON COURSE\\Narratives\\Narrative2Plot\\region_plot.png') \n",
    "\n",
    "doc.add_page_break()\n",
    "\n",
    "\n",
    "doc_para7 = doc.add_paragraph(random_maxprod_choice_state,style='List Bullet')\n",
    "doc_para7.add_run().bold = True\n",
    "\n",
    "doc_para8 = doc.add_paragraph(random_minprod_choice_state,style='List Bullet')\n",
    "doc_para8.add_run().bold = True\n",
    "doc.add_picture(r'C:\\Users\\Hp\\OneDrive\\Documents\\NLP IN PYTHON COURSE\\Narratives\\Narrative2Plot\\prod_plot.png') \n",
    "\n",
    "# # add a run i.e, style like  \n",
    "# # bold, italic, underline, etc. \n",
    "# doc_para.add_run('hey there, bold here').bold = True\n",
    "# doc_para.add_run(', and ') \n",
    "# doc_para.add_run('these words are italic').italic = True\n",
    "  \n",
    "# # add a page break to start a new page \n",
    "# doc.add_page_break() \n",
    "  \n",
    "# # add a heading of level 2 \n",
    "# doc.add_heading('Heading level 2', 2) \n",
    "  \n",
    "# pictures can also be added to our word document \n",
    "# width is optional \n",
    "  \n",
    "# now save the document to a location \n",
    "doc.save(r'C:\\Users\\Hp\\OneDrive\\Documents\\NLP IN PYTHON COURSE\\Narratives\\Narrative2Plot\\test.docx') "
   ]
  },
  {
   "cell_type": "code",
   "execution_count": null,
   "metadata": {
    "colab": {},
    "colab_type": "code",
    "id": "_Sj3QlPP5Ifk"
   },
   "outputs": [],
   "source": []
  },
  {
   "cell_type": "code",
   "execution_count": null,
   "metadata": {
    "colab": {},
    "colab_type": "code",
    "id": "V62cg7UZ07Bp"
   },
   "outputs": [],
   "source": []
  },
  {
   "cell_type": "code",
   "execution_count": null,
   "metadata": {
    "colab": {},
    "colab_type": "code",
    "id": "chzMepwAnY-9"
   },
   "outputs": [],
   "source": []
  },
  {
   "cell_type": "code",
   "execution_count": null,
   "metadata": {
    "colab": {},
    "colab_type": "code",
    "id": "8ux8APqRnZDk"
   },
   "outputs": [],
   "source": []
  },
  {
   "cell_type": "code",
   "execution_count": null,
   "metadata": {
    "colab": {},
    "colab_type": "code",
    "id": "kFTPKtJ85IHc"
   },
   "outputs": [],
   "source": []
  },
  {
   "cell_type": "code",
   "execution_count": null,
   "metadata": {
    "colab": {},
    "colab_type": "code",
    "id": "Itnse2dCvZd0"
   },
   "outputs": [],
   "source": []
  },
  {
   "cell_type": "code",
   "execution_count": null,
   "metadata": {
    "colab": {},
    "colab_type": "code",
    "id": "juXw9-qvwagh"
   },
   "outputs": [],
   "source": []
  }
 ],
 "metadata": {
  "colab": {
   "collapsed_sections": [],
   "name": "costco.ipynb",
   "provenance": [],
   "version": "0.3.2"
  },
  "kernelspec": {
   "display_name": "Python 3",
   "language": "python",
   "name": "python3"
  },
  "language_info": {
   "codemirror_mode": {
    "name": "ipython",
    "version": 3
   },
   "file_extension": ".py",
   "mimetype": "text/x-python",
   "name": "python",
   "nbconvert_exporter": "python",
   "pygments_lexer": "ipython3",
   "version": "3.7.4"
  }
 },
 "nbformat": 4,
 "nbformat_minor": 1
}

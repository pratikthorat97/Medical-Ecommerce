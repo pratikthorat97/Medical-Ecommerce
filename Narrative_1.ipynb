{
 "cells": [
  {
   "cell_type": "code",
   "execution_count": 1,
   "metadata": {},
   "outputs": [],
   "source": [
    "import pandas as pd\n",
    "import numpy as np\n",
    "import matplotlib.pyplot as plt\n",
    "from matplotlib.colors import ListedColormap\n",
    "import seaborn as sns\n",
    "\n",
    "import re\n",
    "import random\n",
    "import docx"
   ]
  },
  {
   "cell_type": "code",
   "execution_count": 2,
   "metadata": {},
   "outputs": [
    {
     "data": {
      "text/html": [
       "<div>\n",
       "<style scoped>\n",
       "    .dataframe tbody tr th:only-of-type {\n",
       "        vertical-align: middle;\n",
       "    }\n",
       "\n",
       "    .dataframe tbody tr th {\n",
       "        vertical-align: top;\n",
       "    }\n",
       "\n",
       "    .dataframe thead th {\n",
       "        text-align: right;\n",
       "    }\n",
       "</style>\n",
       "<table border=\"1\" class=\"dataframe\">\n",
       "  <thead>\n",
       "    <tr style=\"text-align: right;\">\n",
       "      <th></th>\n",
       "      <th>ID</th>\n",
       "      <th>MaxDPD</th>\n",
       "      <th>Remainder_310718</th>\n",
       "      <th>Amount_disbursed</th>\n",
       "      <th>Loan_Term_days</th>\n",
       "      <th>DISBDATE</th>\n",
       "      <th>Mortgage amount of open loans (Collateral Amount)_from_Bureau</th>\n",
       "      <th>other_loan_payments_estimate_from_Bureau</th>\n",
       "      <th>BurdenAsOfAplDate_from_Bureau</th>\n",
       "      <th>NumberOfOpenLoans_from_Bureau</th>\n",
       "      <th>NewRepeatedByProd</th>\n",
       "      <th>Age</th>\n",
       "      <th>Income</th>\n",
       "      <th>OpenedLoansInLast45Days_from_Bureau</th>\n",
       "      <th>DPDin30Days_from_Bureau</th>\n",
       "    </tr>\n",
       "  </thead>\n",
       "  <tbody>\n",
       "    <tr>\n",
       "      <td>0</td>\n",
       "      <td>258522817</td>\n",
       "      <td>298</td>\n",
       "      <td>143120.79</td>\n",
       "      <td>200000.0</td>\n",
       "      <td>720</td>\n",
       "      <td>2017-01-10</td>\n",
       "      <td>245140.0</td>\n",
       "      <td>63396.08</td>\n",
       "      <td>1514579.76</td>\n",
       "      <td>3</td>\n",
       "      <td>NEW</td>\n",
       "      <td>47</td>\n",
       "      <td>264150</td>\n",
       "      <td>0</td>\n",
       "      <td>0</td>\n",
       "    </tr>\n",
       "    <tr>\n",
       "      <td>1</td>\n",
       "      <td>428523187</td>\n",
       "      <td>507</td>\n",
       "      <td>193403.78</td>\n",
       "      <td>200000.0</td>\n",
       "      <td>720</td>\n",
       "      <td>2017-01-11</td>\n",
       "      <td>0.0</td>\n",
       "      <td>9688.83</td>\n",
       "      <td>131851.00</td>\n",
       "      <td>2</td>\n",
       "      <td>NEW</td>\n",
       "      <td>24</td>\n",
       "      <td>96888</td>\n",
       "      <td>0</td>\n",
       "      <td>0</td>\n",
       "    </tr>\n",
       "    <tr>\n",
       "      <td>2</td>\n",
       "      <td>888523426</td>\n",
       "      <td>1</td>\n",
       "      <td>0.00</td>\n",
       "      <td>130000.0</td>\n",
       "      <td>360</td>\n",
       "      <td>2017-01-09</td>\n",
       "      <td>0.0</td>\n",
       "      <td>16956.86</td>\n",
       "      <td>372765.00</td>\n",
       "      <td>2</td>\n",
       "      <td>NEW</td>\n",
       "      <td>24</td>\n",
       "      <td>169568</td>\n",
       "      <td>0</td>\n",
       "      <td>0</td>\n",
       "    </tr>\n",
       "    <tr>\n",
       "      <td>3</td>\n",
       "      <td>328523427</td>\n",
       "      <td>539</td>\n",
       "      <td>130000.00</td>\n",
       "      <td>130000.0</td>\n",
       "      <td>360</td>\n",
       "      <td>2017-01-09</td>\n",
       "      <td>503320.0</td>\n",
       "      <td>22906.96</td>\n",
       "      <td>309457.00</td>\n",
       "      <td>2</td>\n",
       "      <td>NEW</td>\n",
       "      <td>30</td>\n",
       "      <td>229069</td>\n",
       "      <td>0</td>\n",
       "      <td>0</td>\n",
       "    </tr>\n",
       "    <tr>\n",
       "      <td>4</td>\n",
       "      <td>648523461</td>\n",
       "      <td>239</td>\n",
       "      <td>350517.99</td>\n",
       "      <td>440000.0</td>\n",
       "      <td>720</td>\n",
       "      <td>2017-01-04</td>\n",
       "      <td>0.0</td>\n",
       "      <td>23720.53</td>\n",
       "      <td>788730.00</td>\n",
       "      <td>2</td>\n",
       "      <td>NEW</td>\n",
       "      <td>34</td>\n",
       "      <td>237205</td>\n",
       "      <td>0</td>\n",
       "      <td>0</td>\n",
       "    </tr>\n",
       "  </tbody>\n",
       "</table>\n",
       "</div>"
      ],
      "text/plain": [
       "          ID  MaxDPD  Remainder_310718  Amount_disbursed  Loan_Term_days  \\\n",
       "0  258522817     298         143120.79          200000.0             720   \n",
       "1  428523187     507         193403.78          200000.0             720   \n",
       "2  888523426       1              0.00          130000.0             360   \n",
       "3  328523427     539         130000.00          130000.0             360   \n",
       "4  648523461     239         350517.99          440000.0             720   \n",
       "\n",
       "    DISBDATE  Mortgage amount of open loans (Collateral Amount)_from_Bureau  \\\n",
       "0 2017-01-10                                           245140.0               \n",
       "1 2017-01-11                                                0.0               \n",
       "2 2017-01-09                                                0.0               \n",
       "3 2017-01-09                                           503320.0               \n",
       "4 2017-01-04                                                0.0               \n",
       "\n",
       "   other_loan_payments_estimate_from_Bureau  BurdenAsOfAplDate_from_Bureau  \\\n",
       "0                                  63396.08                     1514579.76   \n",
       "1                                   9688.83                      131851.00   \n",
       "2                                  16956.86                      372765.00   \n",
       "3                                  22906.96                      309457.00   \n",
       "4                                  23720.53                      788730.00   \n",
       "\n",
       "   NumberOfOpenLoans_from_Bureau NewRepeatedByProd  Age  Income  \\\n",
       "0                              3               NEW   47  264150   \n",
       "1                              2               NEW   24   96888   \n",
       "2                              2               NEW   24  169568   \n",
       "3                              2               NEW   30  229069   \n",
       "4                              2               NEW   34  237205   \n",
       "\n",
       "   OpenedLoansInLast45Days_from_Bureau DPDin30Days_from_Bureau  \n",
       "0                                    0                       0  \n",
       "1                                    0                       0  \n",
       "2                                    0                       0  \n",
       "3                                    0                       0  \n",
       "4                                    0                       0  "
      ]
     },
     "execution_count": 2,
     "metadata": {},
     "output_type": "execute_result"
    }
   ],
   "source": [
    "df=pd.read_excel(\"Narrative1.xlsx\")\n",
    "df.head()"
   ]
  },
  {
   "cell_type": "code",
   "execution_count": 3,
   "metadata": {},
   "outputs": [
    {
     "data": {
      "text/plain": [
       "Index(['ID', 'MaxDPD', 'Remainder_310718', 'Amount_disbursed',\n",
       "       'Loan_Term_days', 'DISBDATE',\n",
       "       'Mortgage amount of open loans (Collateral Amount)_from_Bureau',\n",
       "       'other_loan_payments_estimate_from_Bureau',\n",
       "       'BurdenAsOfAplDate_from_Bureau', 'NumberOfOpenLoans_from_Bureau',\n",
       "       'NewRepeatedByProd', 'Age', 'Income',\n",
       "       'OpenedLoansInLast45Days_from_Bureau', 'DPDin30Days_from_Bureau'],\n",
       "      dtype='object')"
      ]
     },
     "execution_count": 3,
     "metadata": {},
     "output_type": "execute_result"
    }
   ],
   "source": [
    "df.columns"
   ]
  },
  {
   "cell_type": "code",
   "execution_count": 4,
   "metadata": {},
   "outputs": [],
   "source": [
    "newdf=df.copy()"
   ]
  },
  {
   "cell_type": "markdown",
   "metadata": {},
   "source": [
    "# DPD in 30 Day"
   ]
  },
  {
   "cell_type": "code",
   "execution_count": 5,
   "metadata": {},
   "outputs": [],
   "source": [
    "dpd_statements={}\n",
    "dpd_statements[\"sent_1\"]='Considering the DPD in last 30 days, as per the credit bureau, {dpd_y} borrowers had DPD in their repayment and {dpd_n} did not have any DPD while making repayment.'\n",
    "dpd_statements[\"sent_2\"]=\"While making the repayments,{dpd_y} borrowers had DPD and {dpd_n} borrowers did not have DPD for DPD in last 30 days.\"\n",
    "\n",
    "def dpd(row):\n",
    "    if row['DPDin30Days_from_Bureau']==0:\n",
    "        return \"No\"\n",
    "    return \"Yes\"\n",
    "newdf[\"DPD in 30 days by Bureau\"]=newdf.apply(lambda row:dpd(row),axis=1)\n",
    "\n",
    "dpd_y=newdf[\"DPD in 30 days by Bureau\"].value_counts().values[0]\n",
    "dpd_n=newdf[\"DPD in 30 days by Bureau\"].value_counts().values[1]\n",
    "\n",
    "#random_dpd=random.choice(list(dpd_statements.values()))\n",
    "#print(random_dpd.format(dpd_y=dpd_y,dpd_n=dpd_n))\n",
    "\n"
   ]
  },
  {
   "cell_type": "code",
   "execution_count": 6,
   "metadata": {},
   "outputs": [
    {
     "data": {
      "image/png": "[encoded data removed]",
      "text/plain": [
       "<Figure size 432x216 with 1 Axes>"
      ]
     },
     "metadata": {
      "needs_background": "light"
     },
     "output_type": "display_data"
    }
   ],
   "source": [
    "fig=plt.figure(figsize=(6,3))\n",
    "ax=fig.add_subplot(111)\n",
    "sns.countplot(newdf[\"DPD in 30 days by Bureau\"],palette=\"Set3\",ax=ax)\n",
    "plt.ticklabel_format(axis='y',style=\"plain\")\n",
    "plt.show()"
   ]
  },
  {
   "cell_type": "code",
   "execution_count": 7,
   "metadata": {},
   "outputs": [],
   "source": [
    "#\"Considering the DPD in last 30 days, as per the credit bureau,\"+\" \"+str(df[\"DPD in 30 days by Bureau\"].value_counts().values[0])+\" \"+\"borrowers had DPD in their repayment and\"+\" \"+str(df[\"DPD in 30 days by Bureau\"].value_counts().values[1])+\" \"+\"did not have any DPD while making repayment.\""
   ]
  },
  {
   "cell_type": "markdown",
   "metadata": {},
   "source": [
    "# Open loan last 45 days by Bureau"
   ]
  },
  {
   "cell_type": "code",
   "execution_count": 8,
   "metadata": {},
   "outputs": [],
   "source": [
    "OpenedLoansInLast45Days={}\n",
    "OpenedLoansInLast45Days[\"sent_1\"]=\"Credit bureau records shows us that, in last 45 days {open} number of customers has few loans currently running and {close} customers have closed already.\"\n",
    "OpenedLoansInLast45Days[\"sent_2\"]=\"According to Credit bureau records,{open} number of customers has few loans currently running and {close} customers have closed for last 45 days.\"\n",
    "\n",
    "def func(row):\n",
    "    if row['OpenedLoansInLast45Days_from_Bureau']==0:\n",
    "        return \"No\"\n",
    "    return \"Yes\"\n",
    "newdf[\"Open loan last 45 days by Bureau\"]=newdf.apply(lambda row:func(row),axis=1)\n",
    "\n",
    "run_loans_cust=newdf[\"Open loan last 45 days by Bureau\"].value_counts().values[0]\n",
    "close_loans_cust=newdf[\"Open loan last 45 days by Bureau\"].value_counts().values[1]\n",
    "\n",
    "    #random_45_opened_loans=random.choice(list(OpenedLoansInLast45Days.values()))\n",
    "    #print(random_45_opened_loans.format(open=run_loans_cust,close=close_loans_cust))"
   ]
  },
  {
   "cell_type": "code",
   "execution_count": 9,
   "metadata": {},
   "outputs": [
    {
     "data": {
      "image/png": "[encoded data removed]",
      "text/plain": [
       "<Figure size 432x216 with 1 Axes>"
      ]
     },
     "metadata": {
      "needs_background": "light"
     },
     "output_type": "display_data"
    }
   ],
   "source": [
    "fig=plt.figure(figsize=(6,3))\n",
    "ax=fig.add_subplot(111)\n",
    "sns.countplot(newdf[\"Open loan last 45 days by Bureau\"],palette=\"Set2\",ax=ax)\n",
    "plt.ticklabel_format(axis='y',style=\"plain\")\n",
    "plt.show()"
   ]
  },
  {
   "cell_type": "code",
   "execution_count": 10,
   "metadata": {},
   "outputs": [],
   "source": [
    "#\"Credit bureau records shows us that, in last 45 days\"+\" \"+str(df[\"Open loan last 45 days by Bureau\"].value_counts().values[0])+\" \"+\"number of customers has few loans currently running and\"+\" \"+str(df[\"Open loan last 45 days by Bureau\"].value_counts().values[1])+\" \"+ \"customers have closed already.\""
   ]
  },
  {
   "cell_type": "markdown",
   "metadata": {},
   "source": [
    "# New/Repeated customers"
   ]
  },
  {
   "cell_type": "code",
   "execution_count": 11,
   "metadata": {},
   "outputs": [],
   "source": [
    "new_customers = {}\n",
    "new_customers[\"sent_1\"] = \"There are total number of {new_cust} new customers which applied for loan and their loan were disbursed as well.\"\n",
    "new_customers[\"sent_2\"] = \"{new_cust} new customers applied for loan and their loan were disbursed.\"\n",
    "\n",
    "repeat_customers={}\n",
    "repeat_customers[\"sent_1\"]=\"Also, we have {repeat_cust} number of customers which are being repeated, meaning they applied for a loan for a multiple times.\"\n",
    "repeat_customers[\"sent_2\"]=\"There are {repeat_cust} number of customers applied for the loan for multiple times.\"\n",
    "\n",
    "new_cust=newdf[\"NewRepeatedByProd\"].value_counts().values[0]\n",
    "repeat_cust=newdf[\"NewRepeatedByProd\"].value_counts().values[1]\n",
    "\n",
    "#random_new_customers=random.choice(list(new_customers.values()))\n",
    "#print(random_new_customers.format(new_cust=new_cust))\n",
    "\n",
    "#random_repeat_customers=random.choice(list(repeat_customers.values()))\n",
    "#print(random_repeat_customers.format(repeat_cust=repeat_cust))\n",
    "\n",
    "\n",
    "\n"
   ]
  },
  {
   "cell_type": "code",
   "execution_count": 12,
   "metadata": {},
   "outputs": [
    {
     "data": {
      "image/png": "[encoded data removed]",
      "text/plain": [
       "<Figure size 432x216 with 1 Axes>"
      ]
     },
     "metadata": {
      "needs_background": "light"
     },
     "output_type": "display_data"
    }
   ],
   "source": [
    "fig=plt.figure(figsize=(6,3))\n",
    "ax=fig.add_subplot(111)\n",
    "sns.countplot(newdf[\"NewRepeatedByProd\"],palette=\"Set2\",ax=ax)\n",
    "plt.ticklabel_format(axis='y',style=\"plain\")\n",
    "plt.show()"
   ]
  },
  {
   "cell_type": "code",
   "execution_count": 13,
   "metadata": {},
   "outputs": [],
   "source": [
    "#print(\"There are total number of\"+\" \"+str(df[\"NewRepeatedByProd\"].value_counts().values[0])+\" \"+\"new customers which applied for loan and their loan were disbursed as well.\\nAlso, we have\"+\" \"+str(df[\"NewRepeatedByProd\"].value_counts().values[1])+\" \"+\"number of customers which are being repeated, meaning they applied for a loan for a multiple times.\")\n"
   ]
  },
  {
   "cell_type": "markdown",
   "metadata": {},
   "source": [
    "# Age"
   ]
  },
  {
   "cell_type": "code",
   "execution_count": 14,
   "metadata": {},
   "outputs": [
    {
     "data": {
      "text/plain": [
       "array([47, 24, 30, 34, 38, 27, 25, 31, 65, 56, 35, 43, 44, 41, 26, 62, 29,\n",
       "       42, 36, 59, 37, 54, 50, 32, 28, 51, 55, 48, 33, 39, 45, 49, 60, 40,\n",
       "       23, 46, 64, 57, 52, 58, 61, 53, 63, 66, 22, 67, 69, 68, 21, 19, 20,\n",
       "       70], dtype=int64)"
      ]
     },
     "execution_count": 14,
     "metadata": {},
     "output_type": "execute_result"
    }
   ],
   "source": [
    "df[\"Age\"].unique()"
   ]
  },
  {
   "cell_type": "code",
   "execution_count": 15,
   "metadata": {},
   "outputs": [],
   "source": [
    "age={}\n",
    "age['sent_1']=\"We have {Young} borrowers which lies in a age group of (18.999, 37.0) and {Old} borrowers which lies in a range of age (37.0, 70.0).\"\n",
    "\n",
    "def funct(row):\n",
    "    if row[\"Age\"]>=18.99 and row[\"Age\"]<=37.0:\n",
    "        return \"[18.999, 37.0]\"\n",
    "    return \"[37.0, 70.0]\"\n",
    "newdf[\"Age Group\"]=newdf.apply(lambda row:funct(row),axis=1)\n",
    "\n",
    "young=newdf[\"Age Group\"].value_counts().values[0]\n",
    "old=newdf[\"Age Group\"].value_counts().values[1]\n",
    "\n",
    "#random_age=random.choice(list(age.values()))\n",
    "#print(random_age.format(Young=young,Old=old))\n"
   ]
  },
  {
   "cell_type": "code",
   "execution_count": 16,
   "metadata": {},
   "outputs": [
    {
     "data": {
      "image/png": "[encoded data removed]",
      "text/plain": [
       "<Figure size 432x288 with 1 Axes>"
      ]
     },
     "metadata": {},
     "output_type": "display_data"
    }
   ],
   "source": [
    "newdf[\"Age Group\"].value_counts().plot(kind=\"pie\",autopct=\"%1.1f%%\")\n",
    "plt.figlegend(labels=newdf[\"Age Group\"].unique(),loc='lower left',ncol=2,labelspacing=0.)\n",
    "plt.show()"
   ]
  },
  {
   "cell_type": "code",
   "execution_count": 17,
   "metadata": {},
   "outputs": [],
   "source": [
    "#\"We have\"+\" \"+str(df[\"Age Group\"].value_counts().values[0])+\" \"+\"borrowers which lies in a age group of (18.999, 37.0] and\"+\" \"+str(df[\"Age Group\"].value_counts().values[1])+\" \"+\"borrowers which lies in a range of age (37.0, 70.0].\""
   ]
  },
  {
   "cell_type": "markdown",
   "metadata": {},
   "source": [
    "# Monthly Basis"
   ]
  },
  {
   "cell_type": "code",
   "execution_count": 18,
   "metadata": {},
   "outputs": [],
   "source": [
    "newdf['month'] = pd.DatetimeIndex(newdf['DISBDATE']).month"
   ]
  },
  {
   "cell_type": "code",
   "execution_count": 19,
   "metadata": {},
   "outputs": [
    {
     "data": {
      "text/plain": [
       "0        1\n",
       "1        1\n",
       "2        1\n",
       "3        1\n",
       "4        1\n",
       "        ..\n",
       "30483    6\n",
       "30484    2\n",
       "30485    5\n",
       "30486    6\n",
       "30487    3\n",
       "Name: month, Length: 30488, dtype: int64"
      ]
     },
     "execution_count": 19,
     "metadata": {},
     "output_type": "execute_result"
    }
   ],
   "source": [
    "newdf[\"month\"]"
   ]
  },
  {
   "cell_type": "code",
   "execution_count": 20,
   "metadata": {},
   "outputs": [],
   "source": [
    "import datetime"
   ]
  },
  {
   "cell_type": "code",
   "execution_count": 21,
   "metadata": {},
   "outputs": [],
   "source": [
    "\n",
    "#datetime.datetime.strftime(newdf[\"DISBDATE\"], '%b')"
   ]
  },
  {
   "cell_type": "code",
   "execution_count": 22,
   "metadata": {},
   "outputs": [],
   "source": [
    "def month_name (df):\n",
    "    if df[\"month\"] == 1:\n",
    "        return \"Jan\"\n",
    "    elif df[\"month\"] == 2:\n",
    "        return \"Feb\"\n",
    "    elif df[\"month\"] == 3:\n",
    "        return \"Mar\"\n",
    "    elif df[\"month\"] == 4:\n",
    "        return \"Apr\"\n",
    "    elif df[\"month\"] == 5:\n",
    "        return \"May\"\n",
    "    elif df[\"month\"] == 6:\n",
    "        return \"Jun\"\n",
    "    elif df[\"month\"] == 7:\n",
    "        return \"Jul\"\n",
    "    elif df[\"month\"] == 8:\n",
    "        return \"Aug\"\n",
    "    elif df[\"month\"] == 9:\n",
    "        return \"Sep\"\n",
    "    elif df[\"month\"] == 10:\n",
    "        return \"Oct\"\n",
    "    elif df[\"month\"] == 11:\n",
    "        return \"Nov\"\n",
    "    elif df[\"month\"] == 12:\n",
    "        return \"Dec\"\n",
    "    \n",
    "newdf[\"Month Name\"]=newdf.apply(lambda df:month_name (df),axis=1)"
   ]
  },
  {
   "cell_type": "code",
   "execution_count": 23,
   "metadata": {},
   "outputs": [],
   "source": [
    "month_max_statements={}\n",
    "month_max_statements['sent_1']='In the month {maxmonthName}, maximum number of {maxvalue} loan were disbursed.'\n",
    "month_max_statements['sent_2']='The maximum number of loans were disbursed in the month {maxmonthName} with the count of {maxvalue}.'\n",
    "\n",
    "month_min_statements={}\n",
    "month_min_statements['sent_1']=\"Also, the minimum number of loans were disbursed in the month {minmonthName} with the count of {minvalue}.\"\n",
    "month_min_statements['sent_2']=\"In the month {minmonthName}, minimum number of {minvalue} loan were disbursed.\"\n",
    "\n",
    "maxmonthname=newdf[\"Month Name\"].value_counts().index[0]\n",
    "minmonthname=newdf[\"Month Name\"].value_counts().index[-1]\n",
    "\n",
    "maxValue=newdf[\"Month Name\"].value_counts().iloc[0]\n",
    "minValue=newdf[\"Month Name\"].value_counts().iloc[-1]\n",
    "\n",
    "#random_month_max=random.choice(list(month_max_statements.values()))\n",
    "#print(random_month_max.format(maxmonthName=maxmonthname,maxvalue=maxValue))\n",
    "\n",
    "#random_month_min=random.choice(list(month_min_statements.values()))\n",
    "#print(random_month_min.format(minmonthName=minmonthname,minvalue=minValue))"
   ]
  },
  {
   "cell_type": "code",
   "execution_count": 24,
   "metadata": {},
   "outputs": [
    {
     "data": {
      "image/png": "[encoded data removed]",
      "text/plain": [
       "<Figure size 432x216 with 1 Axes>"
      ]
     },
     "metadata": {
      "needs_background": "light"
     },
     "output_type": "display_data"
    }
   ],
   "source": [
    "fig=plt.figure(figsize=(6,3))\n",
    "ax=fig.add_subplot(111)\n",
    "sns.countplot(newdf[\"Month Name\"],ax=ax)\n",
    "plt.ticklabel_format(axis='y',style=\"plain\")\n",
    "plt.show()"
   ]
  },
  {
   "cell_type": "code",
   "execution_count": 25,
   "metadata": {},
   "outputs": [],
   "source": [
    "#print(\"In the Month\"+\" \"+str(df[\"Month Name\"].value_counts().idxmax())+\" \"+\"maximum number of\"+\" \"+str(df[\"Month Name\"].value_counts().values.max())+\" \"+\"loan were disbursed.\\nAlso minimum number of loans were disbursed in the month\"+\" \"+str(df[\"Month Name\"].value_counts().idxmin())+\" \"+\"with the count of\"+\" \"+str(df[\"Month Name\"].value_counts().values.min()))"
   ]
  },
  {
   "cell_type": "markdown",
   "metadata": {},
   "source": [
    "# Amount Disbursed"
   ]
  },
  {
   "cell_type": "code",
   "execution_count": 26,
   "metadata": {},
   "outputs": [
    {
     "data": {
      "text/plain": [
       "Index(['ID', 'MaxDPD', 'Remainder_310718', 'Amount_disbursed',\n",
       "       'Loan_Term_days', 'DISBDATE',\n",
       "       'Mortgage amount of open loans (Collateral Amount)_from_Bureau',\n",
       "       'other_loan_payments_estimate_from_Bureau',\n",
       "       'BurdenAsOfAplDate_from_Bureau', 'NumberOfOpenLoans_from_Bureau',\n",
       "       'NewRepeatedByProd', 'Age', 'Income',\n",
       "       'OpenedLoansInLast45Days_from_Bureau', 'DPDin30Days_from_Bureau',\n",
       "       'DPD in 30 days by Bureau', 'Open loan last 45 days by Bureau',\n",
       "       'Age Group', 'month', 'Month Name'],\n",
       "      dtype='object')"
      ]
     },
     "execution_count": 26,
     "metadata": {},
     "output_type": "execute_result"
    }
   ],
   "source": [
    "newdf.columns"
   ]
  },
  {
   "cell_type": "code",
   "execution_count": 27,
   "metadata": {},
   "outputs": [],
   "source": [
    "month_max_sent={}\n",
    "month_max_sent['sent_1']='Month {maxmonth} showed the maximum sum of loan disbursed and the sum of it is $ {maxamt}.'\n",
    "month_max_sent['sent_2']='Talking about the minimum amount of total loan disbursed, it was done in month {maxmonth} with the sum of $ {maxamt}.'\n",
    "\n",
    "month_min_sent={}\n",
    "month_min_sent['sent_1']='Talking about the minimum amount of total loan disbursed, it was done in month {minmonth} with the sum of $ {minamt}.'\n",
    "month_min_sent['sent_2']='Month {minmonth} showed the maximum sum of loan disbursed and the sum of it is $ {minamt}.'\n",
    "\n",
    "df1=newdf.groupby(\"Month Name\")[\"Amount_disbursed\"].sum().round()\n",
    "df2=pd.DataFrame(df1)\n",
    "df2_1=df2.reset_index()\n",
    "df2_1=df2_1.sort_values(\"Amount_disbursed\",ascending=False)\n",
    "\n",
    "\n",
    "\n",
    "maxmonth=df2_1.values[0][0]\n",
    "minmonth=df2_1.values[-1][0]\n",
    "\n",
    "maxamt=df2_1.values[0][1]\n",
    "minamt=df2_1.values[-1][1]\n",
    "\n",
    "#random_month_maxamt=random.choice(list(month_max_sent.values()))\n",
    "#print(random_month_maxamt.format(maxmonth=maxmonth,maxamt=maxamt))\n",
    "\n",
    "#random_month_minamt=random.choice(list(month_min_sent.values()))\n",
    "#print(random_month_minamt.format(minmonth=minmonth,minamt=minamt))\n"
   ]
  },
  {
   "cell_type": "code",
   "execution_count": 28,
   "metadata": {},
   "outputs": [
    {
     "data": {
      "image/png": "[encoded data removed]",
      "text/plain": [
       "<Figure size 432x216 with 1 Axes>"
      ]
     },
     "metadata": {
      "needs_background": "light"
     },
     "output_type": "display_data"
    }
   ],
   "source": [
    "plt.figure(figsize=(6,3))\n",
    "sns.barplot(df2_1[\"Month Name\"],df2_1[\"Amount_disbursed\"],data=df2_1,palette=\"Greens_r\")\n",
    "plt.legend([\"Amount disbursed\"])\n",
    "plt.show()"
   ]
  },
  {
   "cell_type": "code",
   "execution_count": 29,
   "metadata": {},
   "outputs": [],
   "source": [
    "#print(\"Month\"+\" \"+str(df1[\"Amount_disbursed\"].idxmax())+\" \"+\"showed the maximum sum of loan disbursed and the sum of it is $\"+\" \"+str(df1[\"Amount_disbursed\"].values.max())+\".\\nTalking about the minimum amount of total loan disbursed,it was done in month\"+\" \"+str(df1[\"Amount_disbursed\"].idxmin())+\" \"+\"with the sum of $\"+\" \"+str(df1[\"Amount_disbursed\"].values.min())+\".\")"
   ]
  },
  {
   "cell_type": "markdown",
   "metadata": {},
   "source": [
    "# Mortage Amount"
   ]
  },
  {
   "cell_type": "code",
   "execution_count": 30,
   "metadata": {},
   "outputs": [],
   "source": [
    "Mortage_amt={}\n",
    "Mortage_amt['sent_1']='There are in total {opened} total loans opened against the mortgage and {close} loans have been closed.'\n",
    "\n",
    "def mortage(row):\n",
    "    if row['Mortgage amount of open loans (Collateral Amount)_from_Bureau']==0:\n",
    "        return \"No\"\n",
    "    return \"Yes\"\n",
    "newdf[\"mortage loan open/close\"]=newdf.apply(lambda row:mortage(row),axis=1)\n",
    "\n",
    "opened=newdf[\"mortage loan open/close\"].value_counts().values[0]\n",
    "close=newdf[\"mortage loan open/close\"].value_counts().values[1]\n",
    "\n",
    "#random_mortage=random.choice(list(Mortage_amt.values()))\n",
    "#print(random_mortage.format(opened=opened,close=close))"
   ]
  },
  {
   "cell_type": "code",
   "execution_count": 31,
   "metadata": {},
   "outputs": [
    {
     "data": {
      "image/png": "[encoded data removed]",
      "text/plain": [
       "<Figure size 432x216 with 1 Axes>"
      ]
     },
     "metadata": {
      "needs_background": "light"
     },
     "output_type": "display_data"
    }
   ],
   "source": [
    "plt.figure(figsize=(6,3))\n",
    "sns.countplot(newdf[\"mortage loan open/close\"],palette=\"Set1\")\n",
    "plt.show()"
   ]
  },
  {
   "cell_type": "code",
   "execution_count": 32,
   "metadata": {},
   "outputs": [],
   "source": [
    "#\"There are in total\"+\" \"+str(df[\"mortage loan open/close\"].value_counts().values.max())+\" \"+\"total loans opened against the mortage and\"+\" \"+str(df[\"mortage loan open/close\"].value_counts().values.min())+\" \"+\"loans have been closed.\" "
   ]
  },
  {
   "cell_type": "markdown",
   "metadata": {},
   "source": [
    "# Age Gruops with more than 30 DPD"
   ]
  },
  {
   "cell_type": "code",
   "execution_count": 33,
   "metadata": {},
   "outputs": [
    {
     "name": "stderr",
     "output_type": "stream",
     "text": [
      "C:\\Anaconda3\\lib\\site-packages\\ipykernel_launcher.py:10: SettingWithCopyWarning: \n",
      "A value is trying to be set on a copy of a slice from a DataFrame.\n",
      "Try using .loc[row_indexer,col_indexer] = value instead\n",
      "\n",
      "See the caveats in the documentation: http://pandas.pydata.org/pandas-docs/stable/user_guide/indexing.html#returning-a-view-versus-a-copy\n",
      "  # Remove the CWD from sys.path while we load stuff.\n"
     ]
    }
   ],
   "source": [
    "age_group_statements={}\n",
    "age_group_statements['sent_1']='Younger group ranging from [18.999, 36.0] has more numbers of customers {Young_g} compare to the elder group and this shows that more young people are likely to delay during repayment and this is because of the lack of experience in credit management.'\n",
    "\n",
    "\n",
    "age_30dpd_df=newdf.loc[newdf['MaxDPD']>=30]\n",
    "def age_30dpd(row):\n",
    "    if row[\"Age\"]>=18.99 and row[\"Age\"]<=36:\n",
    "        return \"[18.999, 36.0]\"\n",
    "    return \"[36.0, 69.0]\"\n",
    "age_30dpd_df[\"Age_Groups\"]=age_30dpd_df.apply(lambda row:age_30dpd(row),axis=1)\n",
    "\n",
    "young_g=age_30dpd_df[\"Age_Groups\"].value_counts().values[0]\n",
    "old_g=age_30dpd_df[\"Age_Groups\"].value_counts().values[1]\n",
    "        \n",
    "#random_age_30dpd=random.choice(list(age_group_statements.values()))\n",
    "#print(random_age_30dpd.format(Young_g=young_g))\n"
   ]
  },
  {
   "cell_type": "code",
   "execution_count": 34,
   "metadata": {},
   "outputs": [
    {
     "data": {
      "image/png": "[encoded data removed]",
      "text/plain": [
       "<Figure size 504x288 with 1 Axes>"
      ]
     },
     "metadata": {},
     "output_type": "display_data"
    }
   ],
   "source": [
    "plt.figure(figsize=(7,4))\n",
    "colors=[\"purple\",\"pink\"]\n",
    "age_30dpd_df[\"Age_Groups\"].value_counts().plot(kind=\"pie\",autopct=\"%1.1f%%\",colors=colors)\n",
    "plt.figlegend(labels=age_30dpd_df[\"Age_Groups\"].unique(),loc='lower left',ncol=2,labelspacing=0.)\n",
    "plt.show()"
   ]
  },
  {
   "cell_type": "markdown",
   "metadata": {},
   "source": [
    "# New/Repeated customers with more tha 30DPD"
   ]
  },
  {
   "cell_type": "code",
   "execution_count": 35,
   "metadata": {},
   "outputs": [],
   "source": [
    "new_repeat_customers={}\n",
    "new_repeat_customers['sent_1']='Going with the fact that new type of customers are more likely to delay during repayment as they had less access to credit system in past or they are newbie to our existing system and the count of {Cust_New} is enough to support our claim.'\n",
    "new_repeat_customers['sent_2']='The count of new customers with more than 30 DPD is {Cust_New}.These customers are more likely to delay in their repayments may be because of they had less access to the credit system in past and this is enough to support our claim.'\n",
    "\n",
    "new_repeate_cust_30dpd=newdf.loc[newdf[\"MaxDPD\"]>=30]\n",
    "\n",
    "cust_new=new_repeate_cust_30dpd[\"NewRepeatedByProd\"].value_counts().values[0]\n",
    "cust_repeat=new_repeate_cust_30dpd[\"NewRepeatedByProd\"].value_counts().values[1]\n",
    "\n",
    "#random_new_repeat_cust_30dpd=random.choice(list(new_repeat_customers.values()))\n",
    "#print(random_new_repeat_cust_30dpd.format(Cust_New=cust_new))\n"
   ]
  },
  {
   "cell_type": "code",
   "execution_count": 36,
   "metadata": {},
   "outputs": [
    {
     "data": {
      "image/png": "[encoded data removed]",
      "text/plain": [
       "<Figure size 504x288 with 1 Axes>"
      ]
     },
     "metadata": {},
     "output_type": "display_data"
    }
   ],
   "source": [
    "plt.figure(figsize=(7,4))\n",
    "colors=[\"lightblue\",\"yellow\"]\n",
    "new_repeate_cust_30dpd[\"NewRepeatedByProd\"].value_counts().plot(kind=\"pie\",autopct=\"%1.1f%%\",colors=colors)\n",
    "plt.figlegend(labels=new_repeate_cust_30dpd[\"NewRepeatedByProd\"].unique(),loc='lower left',ncol=2,labelspacing=0.)\n",
    "plt.show()"
   ]
  },
  {
   "cell_type": "code",
   "execution_count": 37,
   "metadata": {},
   "outputs": [
    {
     "data": {
      "image/png": "[encoded data removed]",
      "text/plain": [
       "<Figure size 432x216 with 1 Axes>"
      ]
     },
     "metadata": {
      "needs_background": "light"
     },
     "output_type": "display_data"
    },
    {
     "data": {
      "image/png": "[encoded data removed]",
      "text/plain": [
       "<Figure size 432x216 with 1 Axes>"
      ]
     },
     "metadata": {
      "needs_background": "light"
     },
     "output_type": "display_data"
    },
    {
     "data": {
      "image/png": "[encoded data removed]",
      "text/plain": [
       "<Figure size 432x216 with 1 Axes>"
      ]
     },
     "metadata": {
      "needs_background": "light"
     },
     "output_type": "display_data"
    },
    {
     "data": {
      "image/png": "[encoded data removed]",
      "text/plain": [
       "<Figure size 432x216 with 1 Axes>"
      ]
     },
     "metadata": {},
     "output_type": "display_data"
    },
    {
     "data": {
      "image/png": "[encoded data removed]",
      "text/plain": [
       "<Figure size 432x216 with 1 Axes>"
      ]
     },
     "metadata": {
      "needs_background": "light"
     },
     "output_type": "display_data"
    },
    {
     "data": {
      "image/png": "[encoded data removed]",
      "text/plain": [
       "<Figure size 432x216 with 1 Axes>"
      ]
     },
     "metadata": {
      "needs_background": "light"
     },
     "output_type": "display_data"
    },
    {
     "data": {
      "image/png": "[encoded data removed]",
      "text/plain": [
       "<Figure size 432x216 with 1 Axes>"
      ]
     },
     "metadata": {
      "needs_background": "light"
     },
     "output_type": "display_data"
    },
    {
     "data": {
      "image/png": "[encoded data removed]",
      "text/plain": [
       "<Figure size 432x216 with 1 Axes>"
      ]
     },
     "metadata": {},
     "output_type": "display_data"
    },
    {
     "data": {
      "image/png": "[encoded data removed]",
      "text/plain": [
       "<Figure size 432x216 with 1 Axes>"
      ]
     },
     "metadata": {},
     "output_type": "display_data"
    }
   ],
   "source": [
    "random_dpd=random.choice(list(dpd_statements.values()))\n",
    "random_dpd_dpd=random_dpd.format(dpd_y=dpd_y,dpd_n=dpd_n)\n",
    "\n",
    "random_45_opened_loans=random.choice(list(OpenedLoansInLast45Days.values()))\n",
    "random_45=random_45_opened_loans.format(open=run_loans_cust,close=close_loans_cust)\n",
    "\n",
    "random_new_customers=random.choice(list(new_customers.values()))\n",
    "random_new=random_new_customers.format(new_cust=new_cust)\n",
    "\n",
    "random_repeat_customers=random.choice(list(repeat_customers.values()))\n",
    "random_repeat=random_repeat_customers.format(repeat_cust=repeat_cust)\n",
    "\n",
    "random_age=random.choice(list(age.values()))\n",
    "randomAge=random_age.format(Young=young,Old=old)\n",
    "\n",
    "random_month_max=random.choice(list(month_max_statements.values()))\n",
    "randomMMax=random_month_max.format(maxmonthName=maxmonthname,maxvalue=maxValue)\n",
    "\n",
    "random_month_min=random.choice(list(month_min_statements.values()))\n",
    "randomMMin=random_month_min.format(minmonthName=minmonthname,minvalue=minValue)\n",
    "\n",
    "random_month_maxamt=random.choice(list(month_max_sent.values()))\n",
    "randomMMaxAmt=random_month_maxamt.format(maxmonth=maxmonth,maxamt=maxamt)\n",
    "\n",
    "random_month_minamt=random.choice(list(month_min_sent.values()))\n",
    "randomMMinAmt=random_month_minamt.format(minmonth=minmonth,minamt=minamt)\n",
    "\n",
    "random_mortage=random.choice(list(Mortage_amt.values()))\n",
    "random_MortageLoan=random_mortage.format(opened=opened,close=close)\n",
    "\n",
    "random_age_30dpd=random.choice(list(age_group_statements.values()))\n",
    "random_30dpd_age=random_age_30dpd.format(Young_g=young_g)\n",
    "\n",
    "random_new_repeat_cust_30dpd=random.choice(list(new_repeat_customers.values()))\n",
    "random_new_repeat_30dpd=random_new_repeat_cust_30dpd.format(Cust_New=cust_new)\n",
    "\n",
    "\n",
    "fig=plt.figure(figsize=(6,3))\n",
    "ax=fig.add_subplot(111)\n",
    "sns.countplot(newdf[\"DPD in 30 days by Bureau\"],palette=\"Set3\",ax=ax)\n",
    "plt.ticklabel_format(axis='y',style=\"plain\")\n",
    "plt.savefig(r'C:\\Users\\Hp\\OneDrive\\Documents\\NLP IN PYTHON COURSE\\Narratives\\Narrative1Plot\\DPD in 30 days by Bureau.png',bbox_inches='tight',dpi=100,figsize=(6,3))\n",
    "\n",
    "fig=plt.figure(figsize=(6,3))\n",
    "ax=fig.add_subplot(111)\n",
    "sns.countplot(newdf[\"Open loan last 45 days by Bureau\"],palette=\"Set2\",ax=ax)\n",
    "plt.ticklabel_format(axis='y',style=\"plain\")\n",
    "plt.savefig(r'C:\\Users\\Hp\\OneDrive\\Documents\\NLP IN PYTHON COURSE\\Narratives\\Narrative1Plot\\Open loan last 45 days by Bureau.png',bbox_inches='tight',dpi=100,figsize=(6,3))\n",
    "\n",
    "fig=plt.figure(figsize=(6,3))\n",
    "ax=fig.add_subplot(111)\n",
    "sns.countplot(newdf[\"NewRepeatedByProd\"],palette=\"Set2\",ax=ax)\n",
    "plt.ticklabel_format(axis='y',style=\"plain\")\n",
    "plt.savefig(r'C:\\Users\\Hp\\OneDrive\\Documents\\NLP IN PYTHON COURSE\\Narratives\\Narrative1Plot\\New-Repeated.png',bbox_inches='tight',dpi=100,figsize=(6,3))\n",
    "\n",
    "plt.figure(figsize=(6,3))\n",
    "newdf[\"Age Group\"].value_counts().plot(kind=\"pie\",autopct=\"%1.1f%%\")\n",
    "plt.figlegend(labels=newdf[\"Age Group\"].unique(),loc='lower left',ncol=2,labelspacing=0.)\n",
    "plt.savefig(r'C:\\Users\\Hp\\OneDrive\\Documents\\NLP IN PYTHON COURSE\\Narratives\\Narrative1Plot\\Age Group.png',bbox_inches='tight',dpi=100,figsize=(6,3))\n",
    "\n",
    "fig=plt.figure(figsize=(6,3))\n",
    "ax=fig.add_subplot(111)\n",
    "sns.countplot(newdf[\"Month Name\"],ax=ax)\n",
    "plt.ticklabel_format(axis='y',style=\"plain\")\n",
    "plt.savefig(r'C:\\Users\\Hp\\OneDrive\\Documents\\NLP IN PYTHON COURSE\\Narratives\\Narrative1Plot\\MonthCust.png',bbox_inches='tight',dpi=100,figsize=(6,3))\n",
    "\n",
    "plt.figure(figsize=(6,3))\n",
    "sns.barplot(df2_1[\"Month Name\"],df2_1[\"Amount_disbursed\"],data=df2_1,palette=\"Greens_r\")\n",
    "plt.legend([\"Amount disbursed\"])\n",
    "plt.savefig(r'C:\\Users\\Hp\\OneDrive\\Documents\\NLP IN PYTHON COURSE\\Narratives\\Narrative1Plot\\Amount Disbursed.png',bbox_inches='tight',dpi=100,figsize=(6,3))\n",
    "\n",
    "plt.figure(figsize=(6,3))\n",
    "sns.countplot(newdf[\"mortage loan open/close\"],palette=\"Set1\")\n",
    "plt.savefig(r'C:\\Users\\Hp\\OneDrive\\Documents\\NLP IN PYTHON COURSE\\Narratives\\Narrative1Plot\\Mortage loan open-close.png',bbox_inches='tight',dpi=100,figsize=(6,3))\n",
    "\n",
    "\n",
    "plt.figure(figsize=(6,3))\n",
    "colors=[\"purple\",\"pink\"]\n",
    "age_30dpd_df[\"Age_Groups\"].value_counts().plot(kind=\"pie\",autopct=\"%1.1f%%\",colors=colors)\n",
    "plt.figlegend(labels=age_30dpd_df[\"Age_Groups\"].unique(),loc='lower left',ncol=2,labelspacing=0.)\n",
    "plt.savefig(r'C:\\Users\\Hp\\OneDrive\\Documents\\NLP IN PYTHON COURSE\\Narratives\\Narrative1Plot\\Age Groups with more than 30dpd.png',bbox_inches='tight',dpi=100,figsize=(6,3))\n",
    "\n",
    "\n",
    "plt.figure(figsize=(6,3))\n",
    "colors=[\"lightblue\",\"yellow\"]\n",
    "new_repeate_cust_30dpd[\"NewRepeatedByProd\"].value_counts().plot(kind=\"pie\",autopct=\"%1.1f%%\",colors=colors)\n",
    "plt.figlegend(labels=new_repeate_cust_30dpd[\"NewRepeatedByProd\"].unique(),loc='lower left',ncol=2,labelspacing=0.)\n",
    "plt.savefig(r'C:\\Users\\Hp\\OneDrive\\Documents\\NLP IN PYTHON COURSE\\Narratives\\Narrative1Plot\\New-Repeated customers with more than 30dpd.png',bbox_inches='tight',dpi=100,figsize=(6,3))\n",
    "\n",
    "\n",
    "\n",
    "\n"
   ]
  },
  {
   "cell_type": "code",
   "execution_count": 38,
   "metadata": {},
   "outputs": [],
   "source": [
    "doc = docx.Document() \n",
    "\n",
    "# add a heading of level 0 (largest heading) \n",
    "doc.add_heading('Narratives and Graphs', 0)\n",
    "\n",
    "doc_para1 = doc.add_paragraph(random_dpd_dpd,style='List Bullet')\n",
    "doc_para1.add_run().bold = True\n",
    "doc.add_picture(r'C:\\Users\\Hp\\OneDrive\\Documents\\NLP IN PYTHON COURSE\\Narratives\\Narrative1Plot\\DPD in 30 days by Bureau.png')\n",
    "\n",
    "doc_para2 = doc.add_paragraph(random_45,style='List Bullet')\n",
    "doc_para2.add_run().bold = True\n",
    "doc.add_picture(r'C:\\Users\\Hp\\OneDrive\\Documents\\NLP IN PYTHON COURSE\\Narratives\\Narrative1Plot\\Open loan last 45 days by Bureau.png') \n",
    "\n",
    "doc.add_page_break()\n",
    "\n",
    "doc_para3 = doc.add_paragraph(random_new,style='List Bullet')\n",
    "doc_para3.add_run().bold = True\n",
    "\n",
    "doc_para4 = doc.add_paragraph(random_repeat,style='List Bullet')\n",
    "doc_para4.add_run().bold = True\n",
    "doc.add_picture(r'C:\\Users\\Hp\\OneDrive\\Documents\\NLP IN PYTHON COURSE\\Narratives\\Narrative1Plot\\New-Repeated.png')\n",
    "\n",
    "doc_para5 = doc.add_paragraph(randomAge,style='List Bullet')\n",
    "doc_para5.add_run().bold = True\n",
    "doc.add_picture(r'C:\\Users\\Hp\\OneDrive\\Documents\\NLP IN PYTHON COURSE\\Narratives\\Narrative1Plot\\Age Group.png')\n",
    "\n",
    "doc.add_page_break()\n",
    "\n",
    "doc_para6 = doc.add_paragraph(randomMMax,style='List Bullet')\n",
    "doc_para6.add_run().bold = True\n",
    "\n",
    "doc_para7 = doc.add_paragraph(randomMMin,style='List Bullet')\n",
    "doc_para7.add_run().bold = True\n",
    "doc.add_picture(r'C:\\Users\\Hp\\OneDrive\\Documents\\NLP IN PYTHON COURSE\\Narratives\\Narrative1Plot\\MonthCust.png')\n",
    "doc.add_page_break()\n",
    "\n",
    "doc_para8 = doc.add_paragraph(randomMMaxAmt,style='List Bullet')\n",
    "doc_para8.add_run().bold = True\n",
    "doc_para9 = doc.add_paragraph(randomMMinAmt,style='List Bullet')\n",
    "doc_para9.add_run().bold = True\n",
    "\n",
    "doc.add_picture(r'C:\\Users\\Hp\\OneDrive\\Documents\\NLP IN PYTHON COURSE\\Narratives\\Narrative1Plot\\Amount Disbursed.png')\n",
    "\n",
    "doc.add_page_break()\n",
    "\n",
    "doc_para10 = doc.add_paragraph(random_MortageLoan,style='List Bullet')\n",
    "doc_para10.add_run().bold = True\n",
    "doc.add_picture(r'C:\\Users\\Hp\\OneDrive\\Documents\\NLP IN PYTHON COURSE\\Narratives\\Narrative1Plot\\Mortage loan open-close.png')\n",
    "\n",
    "doc.add_page_break()\n",
    "\n",
    "doc_para11 = doc.add_paragraph(random_30dpd_age,style='List Bullet')\n",
    "doc_para11.add_run().bold = True\n",
    "doc.add_picture(r'C:\\Users\\Hp\\OneDrive\\Documents\\NLP IN PYTHON COURSE\\Narratives\\Narrative1Plot\\Age Groups with more than 30dpd.png')\n",
    "\n",
    "doc_para12 = doc.add_paragraph(random_new_repeat_30dpd,style='List Bullet')\n",
    "doc_para12.add_run().bold = True\n",
    "doc.add_picture(r'C:\\Users\\Hp\\OneDrive\\Documents\\NLP IN PYTHON COURSE\\Narratives\\Narrative1Plot\\New-Repeated customers with more than 30dpd.png')\n",
    "\n",
    "\n",
    "\n",
    "doc.save(r'C:\\Users\\Hp\\OneDrive\\Documents\\NLP IN PYTHON COURSE\\Narratives\\Narrative1Plot\\test.docx') \n"
   ]
  },
  {
   "cell_type": "code",
   "execution_count": null,
   "metadata": {},
   "outputs": [],
   "source": []
  }
 ],
 "metadata": {
  "kernelspec": {
   "display_name": "Python 3",
   "language": "python",
   "name": "python3"
  },
  "language_info": {
   "codemirror_mode": {
    "name": "ipython",
    "version": 3
   },
   "file_extension": ".py",
   "mimetype": "text/x-python",
   "name": "python",
   "nbconvert_exporter": "python",
   "pygments_lexer": "ipython3",
   "version": "3.7.4"
  }
 },
 "nbformat": 4,
 "nbformat_minor": 2
}
